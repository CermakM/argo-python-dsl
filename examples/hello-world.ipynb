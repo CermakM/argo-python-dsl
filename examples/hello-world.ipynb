{
 "cells": [
  {
   "cell_type": "markdown",
   "metadata": {
    "toc": true
   },
   "source": [
    "<h1>Table of Contents<span class=\"tocSkip\"></span></h1>\n",
    "<div class=\"toc\"><ul class=\"toc-item\"></ul></div>"
   ]
  },
  {
   "cell_type": "code",
   "execution_count": 2,
   "metadata": {
    "ExecuteTime": {
     "end_time": "2020-01-16T13:09:48.985950Z",
     "start_time": "2020-01-16T13:09:48.961714Z"
    }
   },
   "outputs": [],
   "source": [
    "%load_ext autoreload\n",
    "%autoreload 2"
   ]
  },
  {
   "cell_type": "code",
   "execution_count": 3,
   "metadata": {
    "ExecuteTime": {
     "end_time": "2020-01-16T13:09:49.435917Z",
     "start_time": "2020-01-16T13:09:48.988004Z"
    }
   },
   "outputs": [],
   "source": [
    "from argo.workflows.dsl import Workflow\n",
    "from argo.workflows.dsl import template\n",
    "\n",
    "from argo.workflows.dsl.templates import V1Container"
   ]
  },
  {
   "cell_type": "code",
   "execution_count": 4,
   "metadata": {
    "ExecuteTime": {
     "end_time": "2020-01-16T13:09:49.471510Z",
     "start_time": "2020-01-16T13:09:49.439442Z"
    }
   },
   "outputs": [],
   "source": [
    "import yaml\n",
    "\n",
    "from pprint import pprint\n",
    "\n",
    "from argo.workflows.dsl._utils import sanitize_for_serialization"
   ]
  },
  {
   "cell_type": "markdown",
   "metadata": {},
   "source": [
    "---"
   ]
  },
  {
   "cell_type": "code",
   "execution_count": 5,
   "metadata": {
    "ExecuteTime": {
     "end_time": "2020-01-16T13:09:49.637896Z",
     "start_time": "2020-01-16T13:09:49.473672Z"
    }
   },
   "outputs": [],
   "source": [
    "!sh -c '[ -f \"hello-world.yaml\" ] || curl -LO https://raw.githubusercontent.com/CermakM/argo-python-dsl/master/examples/hello-world.yaml'"
   ]
  },
  {
   "cell_type": "code",
   "execution_count": 6,
   "metadata": {
    "ExecuteTime": {
     "end_time": "2020-01-16T13:09:49.692704Z",
     "start_time": "2020-01-16T13:09:49.641746Z"
    }
   },
   "outputs": [
    {
     "name": "stdout",
     "output_type": "stream",
     "text": [
      "# @file: hello-world.yaml\n",
      "apiVersion: argoproj.io/v1alpha1\n",
      "kind: Workflow\n",
      "metadata:\n",
      "  name: hello-world\n",
      "  generateName: hello-world-\n",
      "spec:\n",
      "  entrypoint: whalesay\n",
      "  templates:\n",
      "  - name: whalesay\n",
      "    container:\n",
      "      name: whalesay\n",
      "      image: docker/whalesay:latest\n",
      "      command: [cowsay]\n",
      "      args: [\"hello world\"]\n",
      "status: {}\n",
      "\n"
     ]
    }
   ],
   "source": [
    "from pathlib import Path\n",
    "\n",
    "manifest = Path(\"./hello-world.yaml\").read_text()\n",
    "print(manifest)"
   ]
  },
  {
   "cell_type": "code",
   "execution_count": 7,
   "metadata": {
    "ExecuteTime": {
     "end_time": "2020-01-16T13:09:49.740156Z",
     "start_time": "2020-01-16T13:09:49.695359Z"
    },
    "scrolled": false
   },
   "outputs": [
    {
     "data": {
      "text/plain": [
       "{'api_version': 'argoproj.io/v1alpha1',\n",
       " 'kind': 'Workflow',\n",
       " 'metadata': {'generate_name': 'hello-world-', 'name': 'hello-world'},\n",
       " 'spec': {'entrypoint': 'whalesay',\n",
       "          'templates': [{'container': {'args': ['hello world'],\n",
       "                                       'command': ['cowsay'],\n",
       "                                       'image': 'docker/whalesay:latest',\n",
       "                                       'name': 'whalesay'},\n",
       "                         'name': 'whalesay'}]},\n",
       " 'status': {}}"
      ]
     },
     "execution_count": 7,
     "metadata": {},
     "output_type": "execute_result"
    }
   ],
   "source": [
    "class HelloWorld(Workflow):\n",
    "    \n",
    "    entrypoint = \"whalesay\"\n",
    "    \n",
    "    @template\n",
    "    def whalesay(self) -> V1Container:\n",
    "        container = V1Container(\n",
    "            image=\"docker/whalesay:latest\",\n",
    "            name=\"whalesay\",\n",
    "            command=[\"cowsay\"],\n",
    "            args=[\"hello world\"]\n",
    "        )\n",
    "        \n",
    "        return container\n",
    "\n",
    "wf = HelloWorld()\n",
    "wf"
   ]
  },
  {
   "cell_type": "markdown",
   "metadata": {},
   "source": [
    "---"
   ]
  },
  {
   "cell_type": "code",
   "execution_count": 8,
   "metadata": {
    "ExecuteTime": {
     "end_time": "2020-01-16T13:09:49.813819Z",
     "start_time": "2020-01-16T13:09:49.743558Z"
    }
   },
   "outputs": [
    {
     "name": "stdout",
     "output_type": "stream",
     "text": [
      "{'apiVersion': 'argoproj.io/v1alpha1',\n",
      " 'kind': 'Workflow',\n",
      " 'metadata': {'generateName': 'hello-world-', 'name': 'hello-world'},\n",
      " 'spec': {'entrypoint': 'whalesay',\n",
      "          'templates': [{'container': {'args': ['hello world'],\n",
      "                                       'command': ['cowsay'],\n",
      "                                       'image': 'docker/whalesay:latest',\n",
      "                                       'name': 'whalesay'},\n",
      "                         'name': 'whalesay'}]},\n",
      " 'status': {}}\n"
     ]
    }
   ],
   "source": [
    "pprint(sanitize_for_serialization(wf))"
   ]
  },
  {
   "cell_type": "code",
   "execution_count": 9,
   "metadata": {
    "ExecuteTime": {
     "end_time": "2020-01-16T13:09:49.881900Z",
     "start_time": "2020-01-16T13:09:49.821116Z"
    }
   },
   "outputs": [
    {
     "name": "stdout",
     "output_type": "stream",
     "text": [
      "{'apiVersion': 'argoproj.io/v1alpha1',\n",
      " 'kind': 'Workflow',\n",
      " 'metadata': {'generateName': 'hello-world-', 'name': 'hello-world'},\n",
      " 'spec': {'entrypoint': 'whalesay',\n",
      "          'templates': [{'container': {'args': ['hello world'],\n",
      "                                       'command': ['cowsay'],\n",
      "                                       'image': 'docker/whalesay:latest',\n",
      "                                       'name': 'whalesay'},\n",
      "                         'name': 'whalesay'}]},\n",
      " 'status': {}}\n"
     ]
    }
   ],
   "source": [
    "pprint(yaml.safe_load(manifest))"
   ]
  },
  {
   "cell_type": "code",
   "execution_count": 10,
   "metadata": {
    "ExecuteTime": {
     "end_time": "2020-01-16T13:09:49.933848Z",
     "start_time": "2020-01-16T13:09:49.889193Z"
    }
   },
   "outputs": [],
   "source": [
    "assert sanitize_for_serialization(wf) == yaml.safe_load(manifest), \"Manifests don't match.\""
   ]
  }
 ],
 "metadata": {
  "finalized": {
   "timestamp": 1579180197096,
   "trusted": true
  },
  "hide_input": false,
  "kernelspec": {
   "display_name": "argo-python-dsl",
   "language": "python",
   "name": "argo-python-dsl"
  },
  "language_info": {
   "codemirror_mode": {
    "name": "ipython",
    "version": 3
   },
   "file_extension": ".py",
   "mimetype": "text/x-python",
   "name": "python",
   "nbconvert_exporter": "python",
   "pygments_lexer": "ipython3",
   "version": "3.6.10"
  },
  "requirements": {
   "aliases": {},
   "dev-packages": {},
   "packages": {
    "argo-workflows": "*",
    "inflection": "==0.3.1",
    "pyyaml": "==5.2"
   },
   "requires": {
    "python_version": "3.6"
   },
   "sources": [
    {
     "name": "pypi",
     "url": "https://pypi.org/simple",
     "verify_ssl": true
    }
   ]
  },
  "toc": {
   "base_numbering": 1,
   "nav_menu": {},
   "number_sections": true,
   "sideBar": true,
   "skip_h1_title": true,
   "title_cell": "Table of Contents",
   "title_sidebar": "Contents",
   "toc_cell": true,
   "toc_position": {},
   "toc_section_display": true,
   "toc_window_display": false
  }
 },
 "nbformat": 4,
 "nbformat_minor": 2
}
