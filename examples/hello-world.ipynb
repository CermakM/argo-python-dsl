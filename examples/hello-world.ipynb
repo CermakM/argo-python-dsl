{
 "cells": [
  {
   "cell_type": "markdown",
   "metadata": {
    "toc": true
   },
   "source": [
    "<h1>Table of Contents<span class=\"tocSkip\"></span></h1>\n",
    "<div class=\"toc\"><ul class=\"toc-item\"></ul></div>"
   ]
  },
  {
   "cell_type": "code",
   "execution_count": 1,
   "metadata": {
    "ExecuteTime": {
     "end_time": "2019-12-17T09:04:25.764250Z",
     "start_time": "2019-12-17T09:04:25.751561Z"
    }
   },
   "outputs": [],
   "source": [
    "%load_ext autoreload\n",
    "%autoreload 2"
   ]
  },
  {
   "cell_type": "code",
   "execution_count": 2,
   "metadata": {
    "ExecuteTime": {
     "end_time": "2019-12-17T09:04:25.775562Z",
     "start_time": "2019-12-17T09:04:25.766395Z"
    }
   },
   "outputs": [],
   "source": [
    "import sys ; sys.path.insert(0, \"../\")"
   ]
  },
  {
   "cell_type": "code",
   "execution_count": 3,
   "metadata": {
    "ExecuteTime": {
     "end_time": "2019-12-17T09:04:26.162378Z",
     "start_time": "2019-12-17T09:04:25.777786Z"
    }
   },
   "outputs": [],
   "source": [
    "from argo.workflows.sdk import Workflow\n",
    "from argo.workflows.sdk import template\n",
    "\n",
    "from argo.workflows.sdk.templates import V1Container"
   ]
  },
  {
   "cell_type": "code",
   "execution_count": 4,
   "metadata": {
    "ExecuteTime": {
     "end_time": "2019-12-17T09:04:26.186127Z",
     "start_time": "2019-12-17T09:04:26.166218Z"
    }
   },
   "outputs": [],
   "source": [
    "import yaml\n",
    "\n",
    "from pprint import pprint\n",
    "\n",
    "from argo.workflows.sdk._utils import sanitize_for_serialization"
   ]
  },
  {
   "cell_type": "markdown",
   "metadata": {},
   "source": [
    "---"
   ]
  },
  {
   "cell_type": "code",
   "execution_count": 5,
   "metadata": {
    "ExecuteTime": {
     "end_time": "2019-12-17T09:04:26.208559Z",
     "start_time": "2019-12-17T09:04:26.187737Z"
    }
   },
   "outputs": [
    {
     "name": "stdout",
     "output_type": "stream",
     "text": [
      "# @file: hello-world.yaml\n",
      "apiVersion: argoproj.io/v1alpha1\n",
      "kind: Workflow\n",
      "metadata:\n",
      "  name: hello-world\n",
      "  generateName: hello-world-\n",
      "spec:\n",
      "  entrypoint: whalesay\n",
      "  templates:\n",
      "  - name: whalesay\n",
      "    container:\n",
      "      name: whalesay\n",
      "      image: docker/whalesay:latest\n",
      "      command: [cowsay]\n",
      "      args: [\"hello world\"]\n",
      "status: {}\n",
      "\n"
     ]
    }
   ],
   "source": [
    "from pathlib import Path\n",
    "\n",
    "manifest = Path(\"./hello-world.yaml\").read_text()\n",
    "print(manifest)"
   ]
  },
  {
   "cell_type": "code",
   "execution_count": 6,
   "metadata": {
    "ExecuteTime": {
     "end_time": "2019-12-17T09:04:26.254294Z",
     "start_time": "2019-12-17T09:04:26.211345Z"
    },
    "scrolled": false
   },
   "outputs": [
    {
     "data": {
      "text/plain": [
       "{'api_version': 'argoproj.io/v1alpha1',\n",
       " 'kind': 'Workflow',\n",
       " 'metadata': {'generate_name': 'hello-world-', 'name': 'hello-world'},\n",
       " 'spec': {'entrypoint': 'whalesay',\n",
       "          'templates': [{'container': {'args': ['hello world'],\n",
       "                                       'command': ['cowsay'],\n",
       "                                       'image': 'docker/whalesay:latest',\n",
       "                                       'name': 'whalesay'},\n",
       "                         'name': 'whalesay'}]}}"
      ]
     },
     "execution_count": 6,
     "metadata": {},
     "output_type": "execute_result"
    }
   ],
   "source": [
    "class HelloWorld(Workflow):\n",
    "    \n",
    "    entrypoint = \"whalesay\"\n",
    "    \n",
    "    @template\n",
    "    def whalesay(self) -> V1Container:\n",
    "        container = V1Container(\n",
    "            image=\"docker/whalesay:latest\",\n",
    "            name=\"whalesay\",\n",
    "            command=[\"cowsay\"],\n",
    "            args=[\"hello world\"]\n",
    "        )\n",
    "        \n",
    "        return container\n",
    "\n",
    "wf = HelloWorld()\n",
    "wf"
   ]
  },
  {
   "cell_type": "markdown",
   "metadata": {},
   "source": [
    "---"
   ]
  },
  {
   "cell_type": "code",
   "execution_count": 7,
   "metadata": {
    "ExecuteTime": {
     "end_time": "2019-12-17T09:04:26.291580Z",
     "start_time": "2019-12-17T09:04:26.256332Z"
    }
   },
   "outputs": [
    {
     "name": "stdout",
     "output_type": "stream",
     "text": [
      "{'apiVersion': 'argoproj.io/v1alpha1',\n",
      " 'kind': 'Workflow',\n",
      " 'metadata': {'generateName': 'hello-world-', 'name': 'hello-world'},\n",
      " 'spec': {'entrypoint': 'whalesay',\n",
      "          'templates': [{'container': {'args': ['hello world'],\n",
      "                                       'command': ['cowsay'],\n",
      "                                       'image': 'docker/whalesay:latest',\n",
      "                                       'name': 'whalesay'},\n",
      "                         'name': 'whalesay'}]},\n",
      " 'status': {}}\n"
     ]
    }
   ],
   "source": [
    "pprint(sanitize_for_serialization(wf))"
   ]
  },
  {
   "cell_type": "code",
   "execution_count": 8,
   "metadata": {
    "ExecuteTime": {
     "end_time": "2019-12-17T09:04:26.338426Z",
     "start_time": "2019-12-17T09:04:26.293861Z"
    }
   },
   "outputs": [
    {
     "name": "stdout",
     "output_type": "stream",
     "text": [
      "{'apiVersion': 'argoproj.io/v1alpha1',\n",
      " 'kind': 'Workflow',\n",
      " 'metadata': {'generateName': 'hello-world-', 'name': 'hello-world'},\n",
      " 'spec': {'entrypoint': 'whalesay',\n",
      "          'templates': [{'container': {'args': ['hello world'],\n",
      "                                       'command': ['cowsay'],\n",
      "                                       'image': 'docker/whalesay:latest',\n",
      "                                       'name': 'whalesay'},\n",
      "                         'name': 'whalesay'}]},\n",
      " 'status': {}}\n"
     ]
    }
   ],
   "source": [
    "pprint(yaml.safe_load(manifest))"
   ]
  },
  {
   "cell_type": "code",
   "execution_count": 9,
   "metadata": {
    "ExecuteTime": {
     "end_time": "2019-12-17T09:04:26.376557Z",
     "start_time": "2019-12-17T09:04:26.340479Z"
    }
   },
   "outputs": [],
   "source": [
    "assert sanitize_for_serialization(wf) == yaml.safe_load(manifest), \"Manifests don't match.\""
   ]
  }
 ],
 "metadata": {
  "hide_input": false,
  "kernelspec": {
   "display_name": "argo-python-sdk",
   "language": "python",
   "name": "argo-python-sdk"
  },
  "language_info": {
   "codemirror_mode": {
    "name": "ipython",
    "version": 3
   },
   "file_extension": ".py",
   "mimetype": "text/x-python",
   "name": "python",
   "nbconvert_exporter": "python",
   "pygments_lexer": "ipython3",
   "version": "3.6.8"
  },
  "requirements": {
   "aliases": {},
   "dev-packages": {},
   "packages": {
    "argo-workflows": "==2.1.2",
    "kubernetes": "==10.0.1",
    "pyyaml": "==5.2"
   },
   "requires": {
    "python_version": "3.6"
   },
   "sources": [
    {
     "name": "pypi",
     "url": "https://pypi.org/simple",
     "verify_ssl": true
    }
   ]
  },
  "toc": {
   "base_numbering": 1,
   "nav_menu": {},
   "number_sections": true,
   "sideBar": true,
   "skip_h1_title": true,
   "title_cell": "Table of Contents",
   "title_sidebar": "Contents",
   "toc_cell": true,
   "toc_position": {},
   "toc_section_display": true,
   "toc_window_display": false
  }
 },
 "nbformat": 4,
 "nbformat_minor": 2
}
