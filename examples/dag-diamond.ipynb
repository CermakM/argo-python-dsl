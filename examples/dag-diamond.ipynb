{
 "cells": [
  {
   "cell_type": "markdown",
   "metadata": {
    "toc": true
   },
   "source": [
    "<h1>Table of Contents<span class=\"tocSkip\"></span></h1>\n",
    "<div class=\"toc\"><ul class=\"toc-item\"></ul></div>"
   ]
  },
  {
   "cell_type": "code",
   "execution_count": 1,
   "metadata": {
    "ExecuteTime": {
     "end_time": "2019-12-18T08:09:05.281788Z",
     "start_time": "2019-12-18T08:09:05.240553Z"
    }
   },
   "outputs": [],
   "source": [
    "%load_ext autoreload\n",
    "%autoreload 2"
   ]
  },
  {
   "cell_type": "code",
   "execution_count": 2,
   "metadata": {
    "ExecuteTime": {
     "end_time": "2019-12-18T08:09:05.302065Z",
     "start_time": "2019-12-18T08:09:05.285073Z"
    }
   },
   "outputs": [],
   "source": [
    "import sys ; sys.path.insert(0, \"../\")"
   ]
  },
  {
   "cell_type": "code",
   "execution_count": null,
   "metadata": {
    "ExecuteTime": {
     "start_time": "2019-12-18T08:09:05.245Z"
    }
   },
   "outputs": [],
   "source": [
    "from argo.workflows.sdk import Workflow\n",
    "\n",
    "from argo.workflows.sdk.tasks import *\n",
    "from argo.workflows.sdk.templates import *"
   ]
  },
  {
   "cell_type": "code",
   "execution_count": null,
   "metadata": {
    "ExecuteTime": {
     "start_time": "2019-12-18T08:09:05.255Z"
    }
   },
   "outputs": [],
   "source": [
    "import yaml\n",
    "\n",
    "from pprint import pprint\n",
    "\n",
    "from argo.workflows.sdk._utils import sanitize_for_serialization"
   ]
  },
  {
   "cell_type": "markdown",
   "metadata": {},
   "source": [
    "---"
   ]
  },
  {
   "cell_type": "code",
   "execution_count": null,
   "metadata": {
    "ExecuteTime": {
     "start_time": "2019-12-18T08:09:05.362Z"
    }
   },
   "outputs": [],
   "source": [
    "from pathlib import Path\n",
    "\n",
    "manifest = Path(\"./dag-diamond.yaml\").read_text()\n",
    "print(manifest)"
   ]
  },
  {
   "cell_type": "code",
   "execution_count": null,
   "metadata": {
    "ExecuteTime": {
     "start_time": "2019-12-18T08:09:05.364Z"
    },
    "scrolled": false
   },
   "outputs": [],
   "source": [
    "class DagDiamond(Workflow):\n",
    "    \n",
    "    @task\n",
    "    @arguments.parameter(name=\"message\", value=\"A\")\n",
    "    def A(self, message: V1alpha1Parameter) -> V1alpha1Template:\n",
    "        return self.echo(message=message)\n",
    "    \n",
    "    @task\n",
    "    @arguments.parameter(name=\"message\", value=\"B\")\n",
    "    @dependencies([\"A\"])\n",
    "    def B(self, message: V1alpha1Parameter) -> V1alpha1Template:\n",
    "        return self.echo(message=message)\n",
    "    \n",
    "    @task\n",
    "    @arguments.parameter(name=\"message\", value=\"C\")\n",
    "    @dependencies([\"A\"])\n",
    "    def C(self, message: V1alpha1Parameter) -> V1alpha1Template:\n",
    "        return self.echo(message=message)\n",
    "    \n",
    "    @task\n",
    "    @arguments.parameter(name=\"message\", value=\"D\")\n",
    "    @dependencies([\"B\", \"C\"])\n",
    "    def D(self, message: V1alpha1Parameter) -> V1alpha1Template:\n",
    "        return self.echo(message=message)\n",
    "    \n",
    "    @template\n",
    "    @inputs.parameter(name=\"message\")\n",
    "    def echo(self, message: V1alpha1Parameter) -> V1Container:\n",
    "        container = V1Container(\n",
    "            image=\"alpine:3.7\",\n",
    "            name=\"echo\",\n",
    "            command=[\"echo\", \"{{inputs.parameters.message}}\"],\n",
    "        )\n",
    "        \n",
    "        return container\n",
    "\n",
    "wf = DagDiamond()\n",
    "wf"
   ]
  },
  {
   "cell_type": "markdown",
   "metadata": {},
   "source": [
    "---"
   ]
  },
  {
   "cell_type": "code",
   "execution_count": null,
   "metadata": {
    "ExecuteTime": {
     "end_time": "2019-12-17T22:58:48.267354Z",
     "start_time": "2019-12-17T22:58:48.208500Z"
    }
   },
   "outputs": [],
   "source": [
    "pprint(sanitize_for_serialization(wf))"
   ]
  },
  {
   "cell_type": "code",
   "execution_count": null,
   "metadata": {
    "ExecuteTime": {
     "end_time": "2019-12-17T22:58:48.321144Z",
     "start_time": "2019-12-17T22:58:48.269110Z"
    }
   },
   "outputs": [],
   "source": [
    "pprint(yaml.safe_load(manifest))"
   ]
  },
  {
   "cell_type": "code",
   "execution_count": null,
   "metadata": {
    "ExecuteTime": {
     "end_time": "2019-12-17T22:58:48.365377Z",
     "start_time": "2019-12-17T22:58:48.324940Z"
    }
   },
   "outputs": [],
   "source": [
    "assert sanitize_for_serialization(wf) == yaml.safe_load(manifest), \"Manifests don't match.\""
   ]
  }
 ],
 "metadata": {
  "hide_input": false,
  "kernelspec": {
   "display_name": "argo-python-sdk",
   "language": "python",
   "name": "argo-python-sdk"
  },
  "language_info": {
   "codemirror_mode": {
    "name": "ipython",
    "version": 3
   },
   "file_extension": ".py",
   "mimetype": "text/x-python",
   "name": "python",
   "nbconvert_exporter": "python",
   "pygments_lexer": "ipython3",
   "version": "3.6.8"
  },
  "requirements": {
   "aliases": {},
   "dev-packages": {},
   "packages": {
    "argo-workflows": "==2.1.2",
    "kubernetes": "==10.0.1",
    "pyyaml": "==5.2"
   },
   "requires": {
    "python_version": "3.6"
   },
   "sources": [
    {
     "name": "pypi",
     "url": "https://pypi.org/simple",
     "verify_ssl": true
    }
   ]
  },
  "toc": {
   "base_numbering": 1,
   "nav_menu": {},
   "number_sections": true,
   "sideBar": true,
   "skip_h1_title": true,
   "title_cell": "Table of Contents",
   "title_sidebar": "Contents",
   "toc_cell": true,
   "toc_position": {},
   "toc_section_display": true,
   "toc_window_display": false
  }
 },
 "nbformat": 4,
 "nbformat_minor": 2
}
