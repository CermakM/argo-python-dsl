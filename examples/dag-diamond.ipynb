{
 "cells": [
  {
   "cell_type": "markdown",
   "metadata": {
    "toc": true
   },
   "source": [
    "<h1>Table of Contents<span class=\"tocSkip\"></span></h1>\n",
    "<div class=\"toc\"><ul class=\"toc-item\"></ul></div>"
   ]
  },
  {
   "cell_type": "code",
   "execution_count": 1,
   "metadata": {
    "ExecuteTime": {
     "end_time": "2020-01-16T13:10:49.038996Z",
     "start_time": "2020-01-16T13:10:49.018358Z"
    }
   },
   "outputs": [],
   "source": [
    "%load_ext autoreload\n",
    "%autoreload 2"
   ]
  },
  {
   "cell_type": "code",
   "execution_count": 2,
   "metadata": {
    "ExecuteTime": {
     "end_time": "2020-01-16T13:10:49.527287Z",
     "start_time": "2020-01-16T13:10:49.041932Z"
    }
   },
   "outputs": [],
   "source": [
    "from argo.workflows.dsl import Workflow\n",
    "\n",
    "from argo.workflows.dsl.tasks import *\n",
    "from argo.workflows.dsl.templates import *"
   ]
  },
  {
   "cell_type": "code",
   "execution_count": 3,
   "metadata": {
    "ExecuteTime": {
     "end_time": "2020-01-16T13:10:49.557306Z",
     "start_time": "2020-01-16T13:10:49.531713Z"
    }
   },
   "outputs": [],
   "source": [
    "import yaml\n",
    "\n",
    "from pprint import pprint\n",
    "\n",
    "from argo.workflows.dsl._utils import sanitize_for_serialization"
   ]
  },
  {
   "cell_type": "markdown",
   "metadata": {},
   "source": [
    "---"
   ]
  },
  {
   "cell_type": "code",
   "execution_count": 4,
   "metadata": {
    "ExecuteTime": {
     "end_time": "2020-01-16T13:10:49.699083Z",
     "start_time": "2020-01-16T13:10:49.559145Z"
    }
   },
   "outputs": [],
   "source": [
    "!sh -c '[ -f \"dag-diamond.yaml\" ] || curl -LO https://raw.githubusercontent.com/CermakM/argo-python-dsl/master/examples/dag-diamond.yaml'"
   ]
  },
  {
   "cell_type": "code",
   "execution_count": 5,
   "metadata": {
    "ExecuteTime": {
     "end_time": "2020-01-16T13:10:49.738187Z",
     "start_time": "2020-01-16T13:10:49.703317Z"
    }
   },
   "outputs": [
    {
     "name": "stdout",
     "output_type": "stream",
     "text": [
      "# @file: dag-diamond.yaml\n",
      "# The following workflow executes a diamond workflow\n",
      "#\n",
      "#   A\n",
      "#  / \\\n",
      "# B   C\n",
      "#  \\ /\n",
      "#   D\n",
      "apiVersion: argoproj.io/v1alpha1\n",
      "kind: Workflow\n",
      "metadata:\n",
      "  name: dag-diamond\n",
      "  generateName: dag-diamond-\n",
      "spec:\n",
      "  entrypoint: main\n",
      "  templates:\n",
      "  - name: main\n",
      "    dag:\n",
      "      tasks:\n",
      "      - name: A\n",
      "        template: echo\n",
      "        arguments:\n",
      "          parameters: [{name: message, value: A}]\n",
      "      - name: B\n",
      "        dependencies: [A]\n",
      "        template: echo\n",
      "        arguments:\n",
      "          parameters: [{name: message, value: B}]\n",
      "      - name: C\n",
      "        dependencies: [A]\n",
      "        template: echo\n",
      "        arguments:\n",
      "          parameters: [{name: message, value: C}]\n",
      "      - name: D\n",
      "        dependencies: [B, C]\n",
      "        template: echo\n",
      "        arguments:\n",
      "          parameters: [{name: message, value: D}]\n",
      "\n",
      "  # @task: [A, B, C, D]\n",
      "  - name: echo\n",
      "    inputs:\n",
      "      parameters:\n",
      "      - name: message\n",
      "    container:\n",
      "      name: echo\n",
      "      image: alpine:3.7\n",
      "      command: [echo, \"{{inputs.parameters.message}}\"]\n",
      "status: {}\n"
     ]
    }
   ],
   "source": [
    "from pathlib import Path\n",
    "\n",
    "manifest = Path(\"./dag-diamond.yaml\").read_text()\n",
    "print(manifest)"
   ]
  },
  {
   "cell_type": "code",
   "execution_count": 6,
   "metadata": {
    "ExecuteTime": {
     "end_time": "2020-01-16T13:10:49.802546Z",
     "start_time": "2020-01-16T13:10:49.741999Z"
    },
    "scrolled": false
   },
   "outputs": [
    {
     "data": {
      "text/plain": [
       "{'api_version': 'argoproj.io/v1alpha1',\n",
       " 'kind': 'Workflow',\n",
       " 'metadata': {'generate_name': 'dag-diamond-', 'name': 'dag-diamond'},\n",
       " 'spec': {'entrypoint': 'main',\n",
       "          'templates': [{'dag': {'tasks': [{'arguments': {'parameters': [{'name': 'message',\n",
       "                                                                          'value': 'A'}]},\n",
       "                                            'name': 'A',\n",
       "                                            'template': 'echo'},\n",
       "                                           {'arguments': {'parameters': [{'name': 'message',\n",
       "                                                                          'value': 'B'}]},\n",
       "                                            'dependencies': ['A'],\n",
       "                                            'name': 'B',\n",
       "                                            'template': 'echo'},\n",
       "                                           {'arguments': {'parameters': [{'name': 'message',\n",
       "                                                                          'value': 'C'}]},\n",
       "                                            'dependencies': ['A'],\n",
       "                                            'name': 'C',\n",
       "                                            'template': 'echo'},\n",
       "                                           {'arguments': {'parameters': [{'name': 'message',\n",
       "                                                                          'value': 'D'}]},\n",
       "                                            'dependencies': ['B', 'C'],\n",
       "                                            'name': 'D',\n",
       "                                            'template': 'echo'}]},\n",
       "                         'name': 'main'},\n",
       "                        {'container': {'command': ['echo',\n",
       "                                                   '{{inputs.parameters.message}}'],\n",
       "                                       'image': 'alpine:3.7',\n",
       "                                       'name': 'echo'},\n",
       "                         'inputs': {'parameters': [{'name': 'message'}]},\n",
       "                         'name': 'echo'}]},\n",
       " 'status': {}}"
      ]
     },
     "execution_count": 6,
     "metadata": {},
     "output_type": "execute_result"
    }
   ],
   "source": [
    "class DagDiamond(Workflow):\n",
    "    \n",
    "    @task\n",
    "    @parameter(name=\"message\", value=\"A\")\n",
    "    def A(self, message: V1alpha1Parameter) -> V1alpha1Template:\n",
    "        return self.echo(message=message)\n",
    "    \n",
    "    @task\n",
    "    @parameter(name=\"message\", value=\"B\")\n",
    "    @dependencies([\"A\"])\n",
    "    def B(self, message: V1alpha1Parameter) -> V1alpha1Template:\n",
    "        return self.echo(message=message)\n",
    "    \n",
    "    @task\n",
    "    @parameter(name=\"message\", value=\"C\")\n",
    "    @dependencies([\"A\"])\n",
    "    def C(self, message: V1alpha1Parameter) -> V1alpha1Template:\n",
    "        return self.echo(message=message)\n",
    "    \n",
    "    @task\n",
    "    @parameter(name=\"message\", value=\"D\")\n",
    "    @dependencies([\"B\", \"C\"])\n",
    "    def D(self, message: V1alpha1Parameter) -> V1alpha1Template:\n",
    "        return self.echo(message=message)\n",
    "    \n",
    "    @template\n",
    "    @inputs.parameter(name=\"message\")\n",
    "    def echo(self, message: V1alpha1Parameter) -> V1Container:\n",
    "        container = V1Container(\n",
    "            image=\"alpine:3.7\",\n",
    "            name=\"echo\",\n",
    "            command=[\"echo\", \"{{inputs.parameters.message}}\"],\n",
    "        )\n",
    "        \n",
    "        return container\n",
    "\n",
    "wf = DagDiamond()\n",
    "wf"
   ]
  },
  {
   "cell_type": "markdown",
   "metadata": {},
   "source": [
    "---"
   ]
  },
  {
   "cell_type": "code",
   "execution_count": 7,
   "metadata": {
    "ExecuteTime": {
     "end_time": "2020-01-16T13:10:49.836296Z",
     "start_time": "2020-01-16T13:10:49.804479Z"
    }
   },
   "outputs": [
    {
     "name": "stdout",
     "output_type": "stream",
     "text": [
      "{'apiVersion': 'argoproj.io/v1alpha1',\n",
      " 'kind': 'Workflow',\n",
      " 'metadata': {'generateName': 'dag-diamond-', 'name': 'dag-diamond'},\n",
      " 'spec': {'entrypoint': 'main',\n",
      "          'templates': [{'dag': {'tasks': [{'arguments': {'parameters': [{'name': 'message',\n",
      "                                                                          'value': 'A'}]},\n",
      "                                            'name': 'A',\n",
      "                                            'template': 'echo'},\n",
      "                                           {'arguments': {'parameters': [{'name': 'message',\n",
      "                                                                          'value': 'B'}]},\n",
      "                                            'dependencies': ['A'],\n",
      "                                            'name': 'B',\n",
      "                                            'template': 'echo'},\n",
      "                                           {'arguments': {'parameters': [{'name': 'message',\n",
      "                                                                          'value': 'C'}]},\n",
      "                                            'dependencies': ['A'],\n",
      "                                            'name': 'C',\n",
      "                                            'template': 'echo'},\n",
      "                                           {'arguments': {'parameters': [{'name': 'message',\n",
      "                                                                          'value': 'D'}]},\n",
      "                                            'dependencies': ['B', 'C'],\n",
      "                                            'name': 'D',\n",
      "                                            'template': 'echo'}]},\n",
      "                         'name': 'main'},\n",
      "                        {'container': {'command': ['echo',\n",
      "                                                   '{{inputs.parameters.message}}'],\n",
      "                                       'image': 'alpine:3.7',\n",
      "                                       'name': 'echo'},\n",
      "                         'inputs': {'parameters': [{'name': 'message'}]},\n",
      "                         'name': 'echo'}]},\n",
      " 'status': {}}\n"
     ]
    }
   ],
   "source": [
    "pprint(sanitize_for_serialization(wf))"
   ]
  },
  {
   "cell_type": "code",
   "execution_count": 8,
   "metadata": {
    "ExecuteTime": {
     "end_time": "2020-01-16T13:10:49.885619Z",
     "start_time": "2020-01-16T13:10:49.839676Z"
    }
   },
   "outputs": [
    {
     "name": "stdout",
     "output_type": "stream",
     "text": [
      "{'apiVersion': 'argoproj.io/v1alpha1',\n",
      " 'kind': 'Workflow',\n",
      " 'metadata': {'generateName': 'dag-diamond-', 'name': 'dag-diamond'},\n",
      " 'spec': {'entrypoint': 'main',\n",
      "          'templates': [{'dag': {'tasks': [{'arguments': {'parameters': [{'name': 'message',\n",
      "                                                                          'value': 'A'}]},\n",
      "                                            'name': 'A',\n",
      "                                            'template': 'echo'},\n",
      "                                           {'arguments': {'parameters': [{'name': 'message',\n",
      "                                                                          'value': 'B'}]},\n",
      "                                            'dependencies': ['A'],\n",
      "                                            'name': 'B',\n",
      "                                            'template': 'echo'},\n",
      "                                           {'arguments': {'parameters': [{'name': 'message',\n",
      "                                                                          'value': 'C'}]},\n",
      "                                            'dependencies': ['A'],\n",
      "                                            'name': 'C',\n",
      "                                            'template': 'echo'},\n",
      "                                           {'arguments': {'parameters': [{'name': 'message',\n",
      "                                                                          'value': 'D'}]},\n",
      "                                            'dependencies': ['B', 'C'],\n",
      "                                            'name': 'D',\n",
      "                                            'template': 'echo'}]},\n",
      "                         'name': 'main'},\n",
      "                        {'container': {'command': ['echo',\n",
      "                                                   '{{inputs.parameters.message}}'],\n",
      "                                       'image': 'alpine:3.7',\n",
      "                                       'name': 'echo'},\n",
      "                         'inputs': {'parameters': [{'name': 'message'}]},\n",
      "                         'name': 'echo'}]},\n",
      " 'status': {}}\n"
     ]
    }
   ],
   "source": [
    "pprint(yaml.safe_load(manifest))"
   ]
  },
  {
   "cell_type": "code",
   "execution_count": 9,
   "metadata": {
    "ExecuteTime": {
     "end_time": "2020-01-16T13:10:49.950217Z",
     "start_time": "2020-01-16T13:10:49.891251Z"
    }
   },
   "outputs": [],
   "source": [
    "assert sanitize_for_serialization(wf) == yaml.safe_load(manifest), \"Manifests don't match.\""
   ]
  }
 ],
 "metadata": {
  "finalized": {
   "timestamp": 1579180254322,
   "trusted": true
  },
  "hide_input": false,
  "kernelspec": {
   "display_name": "argo-python-dsl",
   "language": "python",
   "name": "argo-python-dsl"
  },
  "language_info": {
   "codemirror_mode": {
    "name": "ipython",
    "version": 3
   },
   "file_extension": ".py",
   "mimetype": "text/x-python",
   "name": "python",
   "nbconvert_exporter": "python",
   "pygments_lexer": "ipython3",
   "version": "3.6.10"
  },
  "requirements": {
   "aliases": {},
   "dev-packages": {},
   "packages": {
    "argo-workflows": "*",
    "inflection": "==0.3.1",
    "pyyaml": "==5.2"
   },
   "requires": {
    "python_version": "3.6"
   },
   "sources": [
    {
     "name": "pypi",
     "url": "https://pypi.org/simple",
     "verify_ssl": true
    }
   ]
  },
  "toc": {
   "base_numbering": 1,
   "nav_menu": {},
   "number_sections": true,
   "sideBar": true,
   "skip_h1_title": true,
   "title_cell": "Table of Contents",
   "title_sidebar": "Contents",
   "toc_cell": true,
   "toc_position": {},
   "toc_section_display": true,
   "toc_window_display": false
  }
 },
 "nbformat": 4,
 "nbformat_minor": 2
}
