{
 "cells": [
  {
   "cell_type": "markdown",
   "metadata": {
    "toc": true
   },
   "source": [
    "<h1>Table of Contents<span class=\"tocSkip\"></span></h1>\n",
    "<div class=\"toc\"><ul class=\"toc-item\"></ul></div>"
   ]
  },
  {
   "cell_type": "code",
   "execution_count": 1,
   "metadata": {
    "ExecuteTime": {
     "end_time": "2019-12-17T22:58:47.664638Z",
     "start_time": "2019-12-17T22:58:47.584457Z"
    }
   },
   "outputs": [],
   "source": [
    "%load_ext autoreload\n",
    "%autoreload 2"
   ]
  },
  {
   "cell_type": "code",
   "execution_count": 2,
   "metadata": {
    "ExecuteTime": {
     "end_time": "2019-12-17T22:58:47.697977Z",
     "start_time": "2019-12-17T22:58:47.673217Z"
    }
   },
   "outputs": [],
   "source": [
    "import sys ; sys.path.insert(0, \"../\")"
   ]
  },
  {
   "cell_type": "code",
   "execution_count": 3,
   "metadata": {
    "ExecuteTime": {
     "end_time": "2019-12-17T22:58:48.099701Z",
     "start_time": "2019-12-17T22:58:47.701775Z"
    }
   },
   "outputs": [],
   "source": [
    "from argo.workflows.sdk import Workflow\n",
    "\n",
    "from argo.workflows.sdk.tasks import *\n",
    "from argo.workflows.sdk.templates import *"
   ]
  },
  {
   "cell_type": "code",
   "execution_count": 4,
   "metadata": {
    "ExecuteTime": {
     "end_time": "2019-12-17T22:58:48.125252Z",
     "start_time": "2019-12-17T22:58:48.101530Z"
    }
   },
   "outputs": [],
   "source": [
    "import yaml\n",
    "\n",
    "from pprint import pprint\n",
    "\n",
    "from argo.workflows.sdk._utils import sanitize_for_serialization"
   ]
  },
  {
   "cell_type": "markdown",
   "metadata": {},
   "source": [
    "---"
   ]
  },
  {
   "cell_type": "code",
   "execution_count": 5,
   "metadata": {
    "ExecuteTime": {
     "end_time": "2019-12-17T22:58:48.151616Z",
     "start_time": "2019-12-17T22:58:48.127191Z"
    }
   },
   "outputs": [
    {
     "name": "stdout",
     "output_type": "stream",
     "text": [
      "# The following workflow executes a diamond workflow\n",
      "#\n",
      "#   A\n",
      "#  / \\\n",
      "# B   C\n",
      "#  \\ /\n",
      "#   D\n",
      "apiVersion: argoproj.io/v1alpha1\n",
      "kind: Workflow\n",
      "metadata:\n",
      "  name: dag-diamond\n",
      "  generateName: dag-diamond-\n",
      "spec:\n",
      "  entrypoint: main\n",
      "  templates:\n",
      "  - name: main\n",
      "    dag:\n",
      "      tasks:\n",
      "      - name: A\n",
      "        template: echo\n",
      "        arguments:\n",
      "          parameters: [{name: message, value: A}]\n",
      "      - name: B\n",
      "        dependencies: [A]\n",
      "        template: echo\n",
      "        arguments:\n",
      "          parameters: [{name: message, value: B}]\n",
      "      - name: C\n",
      "        dependencies: [A]\n",
      "        template: echo\n",
      "        arguments:\n",
      "          parameters: [{name: message, value: C}]\n",
      "      - name: D\n",
      "        dependencies: [B, C]\n",
      "        template: echo\n",
      "        arguments:\n",
      "          parameters: [{name: message, value: D}]\n",
      "\n",
      "  # @task: [A, B, C, D]\n",
      "  - name: echo\n",
      "    inputs:\n",
      "      parameters:\n",
      "      - name: message\n",
      "    container:\n",
      "      name: echo\n",
      "      image: alpine:3.7\n",
      "      command: [echo, \"{{inputs.parameters.message}}\"]\n",
      "status: {}\n"
     ]
    }
   ],
   "source": [
    "from pathlib import Path\n",
    "\n",
    "manifest = Path(\"./dag-diamond.yaml\").read_text()\n",
    "print(manifest)"
   ]
  },
  {
   "cell_type": "code",
   "execution_count": 6,
   "metadata": {
    "ExecuteTime": {
     "end_time": "2019-12-17T22:58:48.205949Z",
     "start_time": "2019-12-17T22:58:48.154075Z"
    },
    "scrolled": false
   },
   "outputs": [
    {
     "data": {
      "text/plain": [
       "{'api_version': 'argoproj.io/v1alpha1',\n",
       " 'kind': 'Workflow',\n",
       " 'metadata': {'generate_name': 'dag-diamond-', 'name': 'dag-diamond'},\n",
       " 'spec': {'entrypoint': 'main',\n",
       "          'templates': [{'dag': {'tasks': [{'arguments': {'parameters': [{'name': 'message',\n",
       "                                                                          'value': 'A'}]},\n",
       "                                            'name': 'A',\n",
       "                                            'template': 'echo'},\n",
       "                                           {'arguments': {'parameters': [{'name': 'message',\n",
       "                                                                          'value': 'B'}]},\n",
       "                                            'dependencies': ['A'],\n",
       "                                            'name': 'B',\n",
       "                                            'template': 'echo'},\n",
       "                                           {'arguments': {'parameters': [{'name': 'message',\n",
       "                                                                          'value': 'C'}]},\n",
       "                                            'dependencies': ['A'],\n",
       "                                            'name': 'C',\n",
       "                                            'template': 'echo'},\n",
       "                                           {'arguments': {'parameters': [{'name': 'message',\n",
       "                                                                          'value': 'D'}]},\n",
       "                                            'dependencies': ['B', 'C'],\n",
       "                                            'name': 'D',\n",
       "                                            'template': 'echo'}]},\n",
       "                         'name': 'main'},\n",
       "                        {'container': {'command': ['echo',\n",
       "                                                   '{{inputs.parameters.message}}'],\n",
       "                                       'image': 'alpine:3.7',\n",
       "                                       'name': 'echo'},\n",
       "                         'inputs': {'parameters': [{'name': 'message'}]},\n",
       "                         'name': 'echo'}]}}"
      ]
     },
     "execution_count": 6,
     "metadata": {},
     "output_type": "execute_result"
    }
   ],
   "source": [
    "class DagDiamond(Workflow):\n",
    "    \n",
    "    @task\n",
    "    @argument.parameter(name=\"message\", value=\"A\")\n",
    "    def A(self, message: str) -> V1alpha1Template:\n",
    "        return self.echo(message=message)\n",
    "    \n",
    "    @task\n",
    "    @dependencies([\"A\"])\n",
    "    @argument.parameter(name=\"message\", value=\"B\")\n",
    "    def B(self, message: str) -> V1alpha1Template:\n",
    "        return self.echo(message=\"B\")\n",
    "    \n",
    "    @task\n",
    "    @dependencies([\"A\"])\n",
    "    @argument.parameter(name=\"message\", value=\"C\")\n",
    "    def C(self, message: str) -> V1alpha1Template:\n",
    "        return self.echo(message=\"C\")\n",
    "    \n",
    "    @task\n",
    "    @dependencies([\"B\", \"C\"])\n",
    "    @argument.parameter(name=\"message\", value=\"D\")\n",
    "    def D(self, message: str) -> V1alpha1Template:\n",
    "        return self.echo(message=\"D\")\n",
    "    \n",
    "    @template\n",
    "    def echo(self, message: str) -> V1Container:\n",
    "        container = V1Container(\n",
    "            image=\"alpine:3.7\",\n",
    "            name=\"echo\",\n",
    "            command=[\"echo\", \"{{inputs.parameters.message}}\"],\n",
    "        )\n",
    "        \n",
    "        return container\n",
    "\n",
    "wf = DagDiamond()\n",
    "wf"
   ]
  },
  {
   "cell_type": "markdown",
   "metadata": {},
   "source": [
    "---"
   ]
  },
  {
   "cell_type": "code",
   "execution_count": 7,
   "metadata": {
    "ExecuteTime": {
     "end_time": "2019-12-17T22:58:48.267354Z",
     "start_time": "2019-12-17T22:58:48.208500Z"
    }
   },
   "outputs": [
    {
     "name": "stdout",
     "output_type": "stream",
     "text": [
      "{'apiVersion': 'argoproj.io/v1alpha1',\n",
      " 'kind': 'Workflow',\n",
      " 'metadata': {'generateName': 'dag-diamond-', 'name': 'dag-diamond'},\n",
      " 'spec': {'entrypoint': 'main',\n",
      "          'templates': [{'dag': {'tasks': [{'arguments': {'parameters': [{'name': 'message',\n",
      "                                                                          'value': 'A'}]},\n",
      "                                            'name': 'A',\n",
      "                                            'template': 'echo'},\n",
      "                                           {'arguments': {'parameters': [{'name': 'message',\n",
      "                                                                          'value': 'B'}]},\n",
      "                                            'dependencies': ['A'],\n",
      "                                            'name': 'B',\n",
      "                                            'template': 'echo'},\n",
      "                                           {'arguments': {'parameters': [{'name': 'message',\n",
      "                                                                          'value': 'C'}]},\n",
      "                                            'dependencies': ['A'],\n",
      "                                            'name': 'C',\n",
      "                                            'template': 'echo'},\n",
      "                                           {'arguments': {'parameters': [{'name': 'message',\n",
      "                                                                          'value': 'D'}]},\n",
      "                                            'dependencies': ['B', 'C'],\n",
      "                                            'name': 'D',\n",
      "                                            'template': 'echo'}]},\n",
      "                         'name': 'main'},\n",
      "                        {'container': {'command': ['echo',\n",
      "                                                   '{{inputs.parameters.message}}'],\n",
      "                                       'image': 'alpine:3.7',\n",
      "                                       'name': 'echo'},\n",
      "                         'inputs': {'parameters': [{'name': 'message'}]},\n",
      "                         'name': 'echo'}]},\n",
      " 'status': {}}\n"
     ]
    }
   ],
   "source": [
    "pprint(sanitize_for_serialization(wf))"
   ]
  },
  {
   "cell_type": "code",
   "execution_count": 8,
   "metadata": {
    "ExecuteTime": {
     "end_time": "2019-12-17T22:58:48.321144Z",
     "start_time": "2019-12-17T22:58:48.269110Z"
    }
   },
   "outputs": [
    {
     "name": "stdout",
     "output_type": "stream",
     "text": [
      "{'apiVersion': 'argoproj.io/v1alpha1',\n",
      " 'kind': 'Workflow',\n",
      " 'metadata': {'generateName': 'dag-diamond-', 'name': 'dag-diamond'},\n",
      " 'spec': {'entrypoint': 'main',\n",
      "          'templates': [{'dag': {'tasks': [{'arguments': {'parameters': [{'name': 'message',\n",
      "                                                                          'value': 'A'}]},\n",
      "                                            'name': 'A',\n",
      "                                            'template': 'echo'},\n",
      "                                           {'arguments': {'parameters': [{'name': 'message',\n",
      "                                                                          'value': 'B'}]},\n",
      "                                            'dependencies': ['A'],\n",
      "                                            'name': 'B',\n",
      "                                            'template': 'echo'},\n",
      "                                           {'arguments': {'parameters': [{'name': 'message',\n",
      "                                                                          'value': 'C'}]},\n",
      "                                            'dependencies': ['A'],\n",
      "                                            'name': 'C',\n",
      "                                            'template': 'echo'},\n",
      "                                           {'arguments': {'parameters': [{'name': 'message',\n",
      "                                                                          'value': 'D'}]},\n",
      "                                            'dependencies': ['B', 'C'],\n",
      "                                            'name': 'D',\n",
      "                                            'template': 'echo'}]},\n",
      "                         'name': 'main'},\n",
      "                        {'container': {'command': ['echo',\n",
      "                                                   '{{inputs.parameters.message}}'],\n",
      "                                       'image': 'alpine:3.7',\n",
      "                                       'name': 'echo'},\n",
      "                         'inputs': {'parameters': [{'name': 'message'}]},\n",
      "                         'name': 'echo'}]},\n",
      " 'status': {}}\n"
     ]
    }
   ],
   "source": [
    "pprint(yaml.safe_load(manifest))"
   ]
  },
  {
   "cell_type": "code",
   "execution_count": 9,
   "metadata": {
    "ExecuteTime": {
     "end_time": "2019-12-17T22:58:48.365377Z",
     "start_time": "2019-12-17T22:58:48.324940Z"
    }
   },
   "outputs": [],
   "source": [
    "assert sanitize_for_serialization(wf) == yaml.safe_load(manifest), \"Manifests don't match.\""
   ]
  }
 ],
 "metadata": {
  "hide_input": false,
  "kernelspec": {
   "display_name": "argo-python-sdk",
   "language": "python",
   "name": "argo-python-sdk"
  },
  "language_info": {
   "codemirror_mode": {
    "name": "ipython",
    "version": 3
   },
   "file_extension": ".py",
   "mimetype": "text/x-python",
   "name": "python",
   "nbconvert_exporter": "python",
   "pygments_lexer": "ipython3",
   "version": "3.6.8"
  },
  "requirements": {
   "aliases": {},
   "dev-packages": {},
   "packages": {
    "argo-workflows": "==2.1.2",
    "kubernetes": "==10.0.1",
    "pyyaml": "==5.2"
   },
   "requires": {
    "python_version": "3.6"
   },
   "sources": [
    {
     "name": "pypi",
     "url": "https://pypi.org/simple",
     "verify_ssl": true
    }
   ]
  },
  "toc": {
   "base_numbering": 1,
   "nav_menu": {},
   "number_sections": true,
   "sideBar": true,
   "skip_h1_title": true,
   "title_cell": "Table of Contents",
   "title_sidebar": "Contents",
   "toc_cell": true,
   "toc_position": {},
   "toc_section_display": true,
   "toc_window_display": false
  }
 },
 "nbformat": 4,
 "nbformat_minor": 2
}
