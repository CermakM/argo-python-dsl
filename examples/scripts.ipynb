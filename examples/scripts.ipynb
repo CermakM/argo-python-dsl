{
 "cells": [
  {
   "cell_type": "markdown",
   "metadata": {
    "toc": true
   },
   "source": [
    "<h1>Table of Contents<span class=\"tocSkip\"></span></h1>\n",
    "<div class=\"toc\"><ul class=\"toc-item\"><li><span><a href=\"#Option-A:-V1alpha1ScriptTemplate\" data-toc-modified-id=\"Option-A:-V1alpha1ScriptTemplate-1\"><span class=\"toc-item-num\">1&nbsp;&nbsp;</span>Option A: <code>V1alpha1ScriptTemplate</code></a></span></li><li><span><a href=\"#Option-B:-closure\" data-toc-modified-id=\"Option-B:-closure-2\"><span class=\"toc-item-num\">2&nbsp;&nbsp;</span>Option B: <code>closure</code></a></span></li></ul></div>"
   ]
  },
  {
   "cell_type": "code",
   "execution_count": 1,
   "metadata": {
    "ExecuteTime": {
     "end_time": "2019-12-28T11:09:14.202447Z",
     "start_time": "2019-12-28T11:09:14.189901Z"
    }
   },
   "outputs": [],
   "source": [
    "%load_ext autoreload\n",
    "%autoreload 2"
   ]
  },
  {
   "cell_type": "code",
   "execution_count": 2,
   "metadata": {
    "ExecuteTime": {
     "end_time": "2019-12-28T11:09:14.546685Z",
     "start_time": "2019-12-28T11:09:14.204495Z"
    }
   },
   "outputs": [],
   "source": [
    "from argo.workflows.sdk import Workflow\n",
    "\n",
    "from argo.workflows.sdk.tasks import *\n",
    "from argo.workflows.sdk.templates import *"
   ]
  },
  {
   "cell_type": "code",
   "execution_count": 3,
   "metadata": {
    "ExecuteTime": {
     "end_time": "2019-12-28T11:09:14.567311Z",
     "start_time": "2019-12-28T11:09:14.548999Z"
    }
   },
   "outputs": [],
   "source": [
    "import yaml\n",
    "\n",
    "from pprint import pprint\n",
    "\n",
    "from argo.workflows.sdk._utils import sanitize_for_serialization"
   ]
  },
  {
   "cell_type": "markdown",
   "metadata": {},
   "source": [
    "---"
   ]
  },
  {
   "cell_type": "code",
   "execution_count": 4,
   "metadata": {
    "ExecuteTime": {
     "end_time": "2019-12-28T11:09:14.702418Z",
     "start_time": "2019-12-28T11:09:14.569642Z"
    }
   },
   "outputs": [],
   "source": [
    "!sh -c '[ -f \"scripts.yaml\" ] || curl -LO https://raw.githubusercontent.com/CermakM/argo-python-sdk/master/examples/scripts.yaml'"
   ]
  },
  {
   "cell_type": "code",
   "execution_count": 5,
   "metadata": {
    "ExecuteTime": {
     "end_time": "2019-12-28T11:09:14.725618Z",
     "start_time": "2019-12-28T11:09:14.704718Z"
    }
   },
   "outputs": [
    {
     "name": "stdout",
     "output_type": "stream",
     "text": [
      "# @file: scripts.yaml\n",
      "apiVersion: argoproj.io/v1alpha1\n",
      "kind: Workflow\n",
      "metadata:\n",
      "  name: scripts-python\n",
      "  generateName: scripts-python-\n",
      "spec:\n",
      "  entrypoint: main\n",
      "  templates:\n",
      "  - name: main\n",
      "    dag:\n",
      "      tasks:\n",
      "      - name: generate\n",
      "        template: gen-random-int\n",
      "      - name: print\n",
      "        template: print-message\n",
      "        arguments:\n",
      "          parameters:\n",
      "          - name: message\n",
      "            value: \"{{steps.generate.outputs.result}}\"\n",
      "        dependencies: [generate]\n",
      "\n",
      "  - name: gen-random-int\n",
      "    script:\n",
      "      image: python:alpine3.6\n",
      "      name: gen-random-int\n",
      "      command: [python]\n",
      "      source: |\n",
      "        import random\n",
      "        i = random.randint(1, 100)\n",
      "        print(i)\n",
      "\n",
      "  - name: print-message\n",
      "    inputs:\n",
      "      parameters:\n",
      "      - name: message\n",
      "    container:\n",
      "      image: alpine:latest\n",
      "      name: print-message\n",
      "      command: [sh, -c]\n",
      "      args: [\"echo result was: {{inputs.parameters.message}}\"]\n",
      "status: {}\n",
      "\n"
     ]
    }
   ],
   "source": [
    "from pathlib import Path\n",
    "\n",
    "manifest = Path(\"./scripts.yaml\").read_text()\n",
    "print(manifest)"
   ]
  },
  {
   "cell_type": "markdown",
   "metadata": {},
   "source": [
    "## Option A: `V1alpha1ScriptTemplate`"
   ]
  },
  {
   "cell_type": "code",
   "execution_count": 6,
   "metadata": {
    "ExecuteTime": {
     "end_time": "2019-12-28T11:09:14.768894Z",
     "start_time": "2019-12-28T11:09:14.728116Z"
    },
    "scrolled": false
   },
   "outputs": [
    {
     "data": {
      "text/plain": [
       "{'api_version': 'argoproj.io/v1alpha1',\n",
       " 'kind': 'Workflow',\n",
       " 'metadata': {'generate_name': 'scripts-python-', 'name': 'scripts-python'},\n",
       " 'spec': {'entrypoint': 'main',\n",
       "          'templates': [{'dag': {'tasks': [{'name': 'generate',\n",
       "                                            'template': 'gen-random-int'},\n",
       "                                           {'arguments': {'parameters': [{'name': 'message',\n",
       "                                                                          'value': '{{steps.generate.outputs.result}}'}]},\n",
       "                                            'dependencies': ['generate'],\n",
       "                                            'name': 'print',\n",
       "                                            'template': 'print-message'}]},\n",
       "                         'name': 'main'},\n",
       "                        {'name': 'gen-random-int',\n",
       "                         'script': {'command': ['python'],\n",
       "                                    'image': 'python:alpine3.6',\n",
       "                                    'name': 'gen-random-int',\n",
       "                                    'source': 'import random\\n'\n",
       "                                              'i = random.randint(1, 100)\\n'\n",
       "                                              'print(i)\\n'}},\n",
       "                        {'container': {'args': ['echo result was: '\n",
       "                                                '{{inputs.parameters.message}}'],\n",
       "                                       'command': ['sh', '-c'],\n",
       "                                       'image': 'alpine:latest',\n",
       "                                       'name': 'print-message'},\n",
       "                         'inputs': {'parameters': [{'name': 'message'}]},\n",
       "                         'name': 'print-message'}]}}"
      ]
     },
     "execution_count": 6,
     "metadata": {},
     "output_type": "execute_result"
    }
   ],
   "source": [
    "import textwrap\n",
    "\n",
    "class ScriptsPython(Workflow):\n",
    "    \n",
    "    @task\n",
    "    def generate(self) -> V1alpha1Template:\n",
    "        return self.gen_random_int()\n",
    "    \n",
    "    @task\n",
    "    @arguments.parameter(\n",
    "        name=\"message\",\n",
    "        value=\"{{steps.generate.outputs.result}}\"\n",
    "    )\n",
    "    @dependencies([\"generate\"])\n",
    "    def print(self, message: str) -> V1alpha1Template:\n",
    "        return self.print_message(message) \n",
    "    \n",
    "    @template\n",
    "    def gen_random_int(self) -> V1alpha1ScriptTemplate:\n",
    "        source = textwrap.dedent(\"\"\"\\\n",
    "          import random\n",
    "          i = random.randint(1, 100)\n",
    "          print(i)\n",
    "        \"\"\")\n",
    "      \n",
    "        template = V1alpha1ScriptTemplate(\n",
    "            image=\"python:alpine3.6\",\n",
    "            name=\"gen-random-int\",\n",
    "            command=[\"python\"],\n",
    "            source=source\n",
    "        )\n",
    "        \n",
    "        return template\n",
    "    \n",
    "    @template\n",
    "    @inputs.parameter(name=\"message\")\n",
    "    def print_message(self, message: str) -> V1Container:\n",
    "        container = V1Container(\n",
    "            image=\"alpine:latest\",\n",
    "            name=\"print-message\",\n",
    "            command=[\"sh\", \"-c\"],\n",
    "            args=[\"echo result was: {{inputs.parameters.message}}\"],\n",
    "        )\n",
    "        \n",
    "        return container\n",
    "    \n",
    "wf = ScriptsPython()\n",
    "wf"
   ]
  },
  {
   "cell_type": "code",
   "execution_count": 7,
   "metadata": {
    "ExecuteTime": {
     "end_time": "2019-12-28T11:09:14.798443Z",
     "start_time": "2019-12-28T11:09:14.772147Z"
    }
   },
   "outputs": [
    {
     "name": "stdout",
     "output_type": "stream",
     "text": [
      "api_version: argoproj.io/v1alpha1\n",
      "kind: Workflow\n",
      "metadata:\n",
      "  generate_name: scripts-python-\n",
      "  name: scripts-python\n",
      "spec:\n",
      "  entrypoint: main\n",
      "  templates:\n",
      "  - dag:\n",
      "      tasks:\n",
      "      - name: generate\n",
      "        template: gen-random-int\n",
      "      - arguments:\n",
      "          parameters:\n",
      "          - name: message\n",
      "            value: '{{steps.generate.outputs.result}}'\n",
      "        dependencies:\n",
      "        - generate\n",
      "        name: print\n",
      "        template: print-message\n",
      "    name: main\n",
      "  - name: gen-random-int\n",
      "    script:\n",
      "      command:\n",
      "      - python\n",
      "      image: python:alpine3.6\n",
      "      name: gen-random-int\n",
      "      source: 'import random\n",
      "\n",
      "        i = random.randint(1, 100)\n",
      "\n",
      "        print(i)\n",
      "\n",
      "        '\n",
      "  - container:\n",
      "      args:\n",
      "      - 'echo result was: {{inputs.parameters.message}}'\n",
      "      command:\n",
      "      - sh\n",
      "      - -c\n",
      "      image: alpine:latest\n",
      "      name: print-message\n",
      "    inputs:\n",
      "      parameters:\n",
      "      - name: message\n",
      "    name: print-message\n",
      "\n"
     ]
    }
   ],
   "source": [
    "print(wf.to_yaml())"
   ]
  },
  {
   "cell_type": "markdown",
   "metadata": {},
   "source": [
    "---"
   ]
  },
  {
   "cell_type": "code",
   "execution_count": 8,
   "metadata": {
    "ExecuteTime": {
     "end_time": "2019-12-28T11:09:14.828042Z",
     "start_time": "2019-12-28T11:09:14.802091Z"
    }
   },
   "outputs": [
    {
     "name": "stdout",
     "output_type": "stream",
     "text": [
      "{'apiVersion': 'argoproj.io/v1alpha1',\n",
      " 'kind': 'Workflow',\n",
      " 'metadata': {'generateName': 'scripts-python-', 'name': 'scripts-python'},\n",
      " 'spec': {'entrypoint': 'main',\n",
      "          'templates': [{'dag': {'tasks': [{'name': 'generate',\n",
      "                                            'template': 'gen-random-int'},\n",
      "                                           {'arguments': {'parameters': [{'name': 'message',\n",
      "                                                                          'value': '{{steps.generate.outputs.result}}'}]},\n",
      "                                            'dependencies': ['generate'],\n",
      "                                            'name': 'print',\n",
      "                                            'template': 'print-message'}]},\n",
      "                         'name': 'main'},\n",
      "                        {'name': 'gen-random-int',\n",
      "                         'script': {'command': ['python'],\n",
      "                                    'image': 'python:alpine3.6',\n",
      "                                    'name': 'gen-random-int',\n",
      "                                    'source': 'import random\\n'\n",
      "                                              'i = random.randint(1, 100)\\n'\n",
      "                                              'print(i)\\n'}},\n",
      "                        {'container': {'args': ['echo result was: '\n",
      "                                                '{{inputs.parameters.message}}'],\n",
      "                                       'command': ['sh', '-c'],\n",
      "                                       'image': 'alpine:latest',\n",
      "                                       'name': 'print-message'},\n",
      "                         'inputs': {'parameters': [{'name': 'message'}]},\n",
      "                         'name': 'print-message'}]},\n",
      " 'status': {}}\n"
     ]
    }
   ],
   "source": [
    "pprint(sanitize_for_serialization(wf))"
   ]
  },
  {
   "cell_type": "code",
   "execution_count": 9,
   "metadata": {
    "ExecuteTime": {
     "end_time": "2019-12-28T11:09:14.879400Z",
     "start_time": "2019-12-28T11:09:14.836833Z"
    }
   },
   "outputs": [
    {
     "name": "stdout",
     "output_type": "stream",
     "text": [
      "{'apiVersion': 'argoproj.io/v1alpha1',\n",
      " 'kind': 'Workflow',\n",
      " 'metadata': {'generateName': 'scripts-python-', 'name': 'scripts-python'},\n",
      " 'spec': {'entrypoint': 'main',\n",
      "          'templates': [{'dag': {'tasks': [{'name': 'generate',\n",
      "                                            'template': 'gen-random-int'},\n",
      "                                           {'arguments': {'parameters': [{'name': 'message',\n",
      "                                                                          'value': '{{steps.generate.outputs.result}}'}]},\n",
      "                                            'dependencies': ['generate'],\n",
      "                                            'name': 'print',\n",
      "                                            'template': 'print-message'}]},\n",
      "                         'name': 'main'},\n",
      "                        {'name': 'gen-random-int',\n",
      "                         'script': {'command': ['python'],\n",
      "                                    'image': 'python:alpine3.6',\n",
      "                                    'name': 'gen-random-int',\n",
      "                                    'source': 'import random\\n'\n",
      "                                              'i = random.randint(1, 100)\\n'\n",
      "                                              'print(i)\\n'}},\n",
      "                        {'container': {'args': ['echo result was: '\n",
      "                                                '{{inputs.parameters.message}}'],\n",
      "                                       'command': ['sh', '-c'],\n",
      "                                       'image': 'alpine:latest',\n",
      "                                       'name': 'print-message'},\n",
      "                         'inputs': {'parameters': [{'name': 'message'}]},\n",
      "                         'name': 'print-message'}]},\n",
      " 'status': {}}\n"
     ]
    }
   ],
   "source": [
    "pprint(yaml.safe_load(manifest))"
   ]
  },
  {
   "cell_type": "code",
   "execution_count": 10,
   "metadata": {
    "ExecuteTime": {
     "end_time": "2019-12-28T11:09:14.944221Z",
     "start_time": "2019-12-28T11:09:14.881841Z"
    }
   },
   "outputs": [
    {
     "data": {
      "text/plain": [
       "{}"
      ]
     },
     "execution_count": 10,
     "metadata": {},
     "output_type": "execute_result"
    }
   ],
   "source": [
    "from deepdiff import DeepDiff\n",
    "\n",
    "diff = DeepDiff(sanitize_for_serialization(wf), yaml.safe_load(manifest))\n",
    "diff"
   ]
  },
  {
   "cell_type": "code",
   "execution_count": 11,
   "metadata": {
    "ExecuteTime": {
     "end_time": "2019-12-28T11:09:14.987147Z",
     "start_time": "2019-12-28T11:09:14.950526Z"
    }
   },
   "outputs": [],
   "source": [
    "assert not diff, \"Manifests don't match.\""
   ]
  },
  {
   "cell_type": "markdown",
   "metadata": {},
   "source": [
    "## Option B: `closure`"
   ]
  },
  {
   "cell_type": "markdown",
   "metadata": {},
   "source": [
    "In a more complicated example, passing around Python scripts gets quite tedious and unnecessary --- we work with Python anyway, so why don't we make use of it?\n",
    "\n",
    "The way we can utilize a function *as is* is to use `clusure`s. A `closure` is a custom construct which hasn't got a counterpart in the Argo specification. It is, however, very useful when working with the Python SDK."
   ]
  },
  {
   "cell_type": "code",
   "execution_count": 12,
   "metadata": {
    "ExecuteTime": {
     "end_time": "2019-12-28T11:09:15.143175Z",
     "start_time": "2019-12-28T11:09:14.989152Z"
    },
    "scrolled": false
   },
   "outputs": [
    {
     "name": "stdout",
     "output_type": "stream",
     "text": [
      "99\n"
     ]
    },
    {
     "data": {
      "text/plain": [
       "{'api_version': 'argoproj.io/v1alpha1',\n",
       " 'kind': 'Workflow',\n",
       " 'metadata': {'generate_name': 'scripts-python-', 'name': 'scripts-python'},\n",
       " 'spec': {'entrypoint': 'main',\n",
       "          'templates': [{'dag': {'tasks': [{'name': 'generate',\n",
       "                                            'template': 'gen-random-int'},\n",
       "                                           {'arguments': {'parameters': [{'name': 'message',\n",
       "                                                                          'value': '{{steps.generate.outputs.result}}'}]},\n",
       "                                            'dependencies': ['generate'],\n",
       "                                            'name': 'print',\n",
       "                                            'template': 'print-message'}]},\n",
       "                         'name': 'main'},\n",
       "                        {'name': 'gen-random-int',\n",
       "                         'script': {'command': ['python'],\n",
       "                                    'image': 'python:alpine3.6',\n",
       "                                    'name': 'gen-random-int',\n",
       "                                    'source': 'import random\\n'\n",
       "                                              'i = random.randint(1, 100)\\n'\n",
       "                                              'print(i)\\n'}},\n",
       "                        {'container': {'args': ['echo result was: '\n",
       "                                                '{{inputs.parameters.message}}'],\n",
       "                                       'command': ['sh', '-c'],\n",
       "                                       'image': 'alpine:latest',\n",
       "                                       'name': 'print-message'},\n",
       "                         'inputs': {'parameters': [{'name': 'message'}]},\n",
       "                         'name': 'print-message'}]}}"
      ]
     },
     "execution_count": 12,
     "metadata": {},
     "output_type": "execute_result"
    }
   ],
   "source": [
    "import textwrap\n",
    "\n",
    "class ScriptsPython(Workflow):\n",
    "    \n",
    "    @task\n",
    "    def generate(self) -> V1alpha1Template:\n",
    "        return self.gen_random_int()\n",
    "    \n",
    "    @task\n",
    "    @arguments.parameter(\n",
    "        name=\"message\",\n",
    "        value=\"{{steps.generate.outputs.result}}\"\n",
    "    )\n",
    "    @dependencies([\"generate\"])\n",
    "    def print(self, message: str) -> V1alpha1Template:\n",
    "        return self.print_message(message) \n",
    "    \n",
    "    # A closure defines its own scope.\n",
    "    # The code below gets trenslated into the same YAML specification as above,\n",
    "    # that is, a `closure` decorator produces a `V1alpha1ScriptTemplate`.\n",
    "    @closure(\n",
    "        image=\"python:alpine3.6\"\n",
    "    )\n",
    "    def gen_random_int():\n",
    "        import random\n",
    "        i = random.randint(1, 100)\n",
    "        print(i)\n",
    "    \n",
    "    @template\n",
    "    @inputs.parameter(name=\"message\")\n",
    "    def print_message(self, message: str) -> V1Container:\n",
    "        container = V1Container(\n",
    "            image=\"alpine:latest\",\n",
    "            name=\"print-message\",\n",
    "            command=[\"sh\", \"-c\"],\n",
    "            args=[\"echo result was: {{inputs.parameters.message}}\"],\n",
    "        )\n",
    "        \n",
    "        return container\n",
    "    \n",
    "wf = ScriptsPython()\n",
    "wf"
   ]
  },
  {
   "cell_type": "code",
   "execution_count": 13,
   "metadata": {
    "ExecuteTime": {
     "end_time": "2019-12-28T11:09:15.186473Z",
     "start_time": "2019-12-28T11:09:15.145613Z"
    }
   },
   "outputs": [
    {
     "name": "stdout",
     "output_type": "stream",
     "text": [
      "api_version: argoproj.io/v1alpha1\n",
      "kind: Workflow\n",
      "metadata:\n",
      "  generate_name: scripts-python-\n",
      "  name: scripts-python\n",
      "spec:\n",
      "  entrypoint: main\n",
      "  templates:\n",
      "  - dag:\n",
      "      tasks:\n",
      "      - name: generate\n",
      "        template: gen-random-int\n",
      "      - arguments:\n",
      "          parameters:\n",
      "          - name: message\n",
      "            value: '{{steps.generate.outputs.result}}'\n",
      "        dependencies:\n",
      "        - generate\n",
      "        name: print\n",
      "        template: print-message\n",
      "    name: main\n",
      "  - name: gen-random-int\n",
      "    script:\n",
      "      command:\n",
      "      - python\n",
      "      image: python:alpine3.6\n",
      "      name: gen-random-int\n",
      "      source: 'import random\n",
      "\n",
      "        i = random.randint(1, 100)\n",
      "\n",
      "        print(i)\n",
      "\n",
      "        '\n",
      "  - container:\n",
      "      args:\n",
      "      - 'echo result was: {{inputs.parameters.message}}'\n",
      "      command:\n",
      "      - sh\n",
      "      - -c\n",
      "      image: alpine:latest\n",
      "      name: print-message\n",
      "    inputs:\n",
      "      parameters:\n",
      "      - name: message\n",
      "    name: print-message\n",
      "\n"
     ]
    }
   ],
   "source": [
    "print(wf.to_yaml())"
   ]
  },
  {
   "cell_type": "markdown",
   "metadata": {},
   "source": [
    "---"
   ]
  },
  {
   "cell_type": "code",
   "execution_count": 14,
   "metadata": {
    "ExecuteTime": {
     "end_time": "2019-12-28T11:09:15.238792Z",
     "start_time": "2019-12-28T11:09:15.191121Z"
    }
   },
   "outputs": [
    {
     "name": "stdout",
     "output_type": "stream",
     "text": [
      "{'apiVersion': 'argoproj.io/v1alpha1',\n",
      " 'kind': 'Workflow',\n",
      " 'metadata': {'generateName': 'scripts-python-', 'name': 'scripts-python'},\n",
      " 'spec': {'entrypoint': 'main',\n",
      "          'templates': [{'dag': {'tasks': [{'name': 'generate',\n",
      "                                            'template': 'gen-random-int'},\n",
      "                                           {'arguments': {'parameters': [{'name': 'message',\n",
      "                                                                          'value': '{{steps.generate.outputs.result}}'}]},\n",
      "                                            'dependencies': ['generate'],\n",
      "                                            'name': 'print',\n",
      "                                            'template': 'print-message'}]},\n",
      "                         'name': 'main'},\n",
      "                        {'name': 'gen-random-int',\n",
      "                         'script': {'command': ['python'],\n",
      "                                    'image': 'python:alpine3.6',\n",
      "                                    'name': 'gen-random-int',\n",
      "                                    'source': 'import random\\n'\n",
      "                                              'i = random.randint(1, 100)\\n'\n",
      "                                              'print(i)\\n'}},\n",
      "                        {'container': {'args': ['echo result was: '\n",
      "                                                '{{inputs.parameters.message}}'],\n",
      "                                       'command': ['sh', '-c'],\n",
      "                                       'image': 'alpine:latest',\n",
      "                                       'name': 'print-message'},\n",
      "                         'inputs': {'parameters': [{'name': 'message'}]},\n",
      "                         'name': 'print-message'}]},\n",
      " 'status': {}}\n"
     ]
    }
   ],
   "source": [
    "pprint(sanitize_for_serialization(wf))"
   ]
  },
  {
   "cell_type": "code",
   "execution_count": 15,
   "metadata": {
    "ExecuteTime": {
     "end_time": "2019-12-28T11:09:15.290816Z",
     "start_time": "2019-12-28T11:09:15.240740Z"
    }
   },
   "outputs": [
    {
     "name": "stdout",
     "output_type": "stream",
     "text": [
      "{'apiVersion': 'argoproj.io/v1alpha1',\n",
      " 'kind': 'Workflow',\n",
      " 'metadata': {'generateName': 'scripts-python-', 'name': 'scripts-python'},\n",
      " 'spec': {'entrypoint': 'main',\n",
      "          'templates': [{'dag': {'tasks': [{'name': 'generate',\n",
      "                                            'template': 'gen-random-int'},\n",
      "                                           {'arguments': {'parameters': [{'name': 'message',\n",
      "                                                                          'value': '{{steps.generate.outputs.result}}'}]},\n",
      "                                            'dependencies': ['generate'],\n",
      "                                            'name': 'print',\n",
      "                                            'template': 'print-message'}]},\n",
      "                         'name': 'main'},\n",
      "                        {'name': 'gen-random-int',\n",
      "                         'script': {'command': ['python'],\n",
      "                                    'image': 'python:alpine3.6',\n",
      "                                    'name': 'gen-random-int',\n",
      "                                    'source': 'import random\\n'\n",
      "                                              'i = random.randint(1, 100)\\n'\n",
      "                                              'print(i)\\n'}},\n",
      "                        {'container': {'args': ['echo result was: '\n",
      "                                                '{{inputs.parameters.message}}'],\n",
      "                                       'command': ['sh', '-c'],\n",
      "                                       'image': 'alpine:latest',\n",
      "                                       'name': 'print-message'},\n",
      "                         'inputs': {'parameters': [{'name': 'message'}]},\n",
      "                         'name': 'print-message'}]},\n",
      " 'status': {}}\n"
     ]
    }
   ],
   "source": [
    "pprint(yaml.safe_load(manifest))"
   ]
  },
  {
   "cell_type": "code",
   "execution_count": 16,
   "metadata": {
    "ExecuteTime": {
     "end_time": "2019-12-28T11:09:15.330908Z",
     "start_time": "2019-12-28T11:09:15.292550Z"
    }
   },
   "outputs": [
    {
     "data": {
      "text/plain": [
       "{}"
      ]
     },
     "execution_count": 16,
     "metadata": {},
     "output_type": "execute_result"
    }
   ],
   "source": [
    "from deepdiff import DeepDiff\n",
    "\n",
    "diff = DeepDiff(sanitize_for_serialization(wf), yaml.safe_load(manifest))\n",
    "diff"
   ]
  },
  {
   "cell_type": "code",
   "execution_count": 17,
   "metadata": {
    "ExecuteTime": {
     "end_time": "2019-12-28T11:09:15.363487Z",
     "start_time": "2019-12-28T11:09:15.335353Z"
    }
   },
   "outputs": [],
   "source": [
    "assert not diff, \"Manifests don't match.\""
   ]
  }
 ],
 "metadata": {
  "finalized": {
   "timestamp": 1578330386966,
   "trusted": true
  },
  "hide_input": false,
  "kernelspec": {
   "display_name": "argo-python-sdk",
   "language": "python",
   "name": "argo-python-sdk"
  },
  "language_info": {
   "codemirror_mode": {
    "name": "ipython",
    "version": 3
   },
   "file_extension": ".py",
   "mimetype": "text/x-python",
   "name": "python",
   "nbconvert_exporter": "python",
   "pygments_lexer": "ipython3",
   "version": "3.6.8"
  },
  "requirements": {
   "aliases": {},
   "dev-packages": {},
   "packages": {
    "argo-workflows": "*",
    "deepdiff": "==4.0.9",
    "inflection": "==0.3.1",
    "pyyaml": "==5.2"
   },
   "requires": {
    "python_version": "3.6"
   },
   "sources": [
    {
     "name": "pypi",
     "url": "https://pypi.org/simple",
     "verify_ssl": true
    }
   ]
  },
  "toc": {
   "base_numbering": 1,
   "nav_menu": {},
   "number_sections": true,
   "sideBar": true,
   "skip_h1_title": true,
   "title_cell": "Table of Contents",
   "title_sidebar": "Contents",
   "toc_cell": true,
   "toc_position": {},
   "toc_section_display": true,
   "toc_window_display": false
  }
 },
 "nbformat": 4,
 "nbformat_minor": 2
}
