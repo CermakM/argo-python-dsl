{
 "cells": [
  {
   "cell_type": "markdown",
   "metadata": {
    "toc": true
   },
   "source": [
    "<h1>Table of Contents<span class=\"tocSkip\"></span></h1>\n",
    "<div class=\"toc\"><ul class=\"toc-item\"></ul></div>"
   ]
  },
  {
   "cell_type": "code",
   "execution_count": 1,
   "metadata": {
    "ExecuteTime": {
     "end_time": "2019-12-27T21:33:52.418482Z",
     "start_time": "2019-12-27T21:33:52.394850Z"
    }
   },
   "outputs": [],
   "source": [
    "%load_ext autoreload\n",
    "%autoreload 2"
   ]
  },
  {
   "cell_type": "code",
   "execution_count": 2,
   "metadata": {
    "ExecuteTime": {
     "end_time": "2019-12-27T21:33:52.797149Z",
     "start_time": "2019-12-27T21:33:52.420459Z"
    }
   },
   "outputs": [],
   "source": [
    "from argo.workflows.sdk import Workflow\n",
    "\n",
    "from argo.workflows.sdk.tasks import *\n",
    "from argo.workflows.sdk.templates import *"
   ]
  },
  {
   "cell_type": "code",
   "execution_count": 3,
   "metadata": {
    "ExecuteTime": {
     "end_time": "2019-12-27T21:33:52.821889Z",
     "start_time": "2019-12-27T21:33:52.800858Z"
    }
   },
   "outputs": [],
   "source": [
    "import yaml\n",
    "\n",
    "from pprint import pprint\n",
    "\n",
    "from argo.workflows.sdk._utils import sanitize_for_serialization"
   ]
  },
  {
   "cell_type": "markdown",
   "metadata": {},
   "source": [
    "---"
   ]
  },
  {
   "cell_type": "code",
   "execution_count": 4,
   "metadata": {
    "ExecuteTime": {
     "end_time": "2019-12-27T21:33:52.971688Z",
     "start_time": "2019-12-27T21:33:52.824435Z"
    }
   },
   "outputs": [],
   "source": [
    "!sh -c '[ -f \"resource.yaml\" ] || curl -LO https://raw.githubusercontent.com/CermakM/argo-python-sdk/master/examples/resource.yaml'"
   ]
  },
  {
   "cell_type": "code",
   "execution_count": 5,
   "metadata": {
    "ExecuteTime": {
     "end_time": "2019-12-27T21:33:53.056305Z",
     "start_time": "2019-12-27T21:33:53.001332Z"
    }
   },
   "outputs": [
    {
     "name": "stdout",
     "output_type": "stream",
     "text": [
      "# @file: resource.yaml\n",
      "apiVersion: argoproj.io/v1alpha1\n",
      "kind: Workflow\n",
      "metadata:\n",
      "  name: k8s-jobs\n",
      "  generateName: k8s-jobs-\n",
      "spec:\n",
      "  entrypoint: pi\n",
      "  templates:\n",
      "  - name: pi\n",
      "    resource:\n",
      "      action: create\n",
      "      successCondition: status.succeeded > 0\n",
      "      failureCondition: status.failed > 3\n",
      "      manifest: |\n",
      "        apiVersion: batch/v1\n",
      "        kind: Job\n",
      "        metadata:\n",
      "          generateName: pi-job-\n",
      "        spec:\n",
      "          template:\n",
      "            metadata:\n",
      "              name: pi\n",
      "            spec:\n",
      "              containers:\n",
      "              - name: pi\n",
      "                image: perl\n",
      "                command: [\"perl\",  \"-Mbignum=bpi\", \"-wle\", \"print bpi(2000)\"]\n",
      "              restartPolicy: Never\n",
      "          backoffLimit: 4\n",
      "status: {}\n",
      "\n"
     ]
    }
   ],
   "source": [
    "from pathlib import Path\n",
    "\n",
    "manifest = Path(\"./resource.yaml\").read_text()\n",
    "print(manifest)"
   ]
  },
  {
   "cell_type": "code",
   "execution_count": 6,
   "metadata": {
    "ExecuteTime": {
     "end_time": "2019-12-27T21:33:53.103242Z",
     "start_time": "2019-12-27T21:33:53.057943Z"
    },
    "scrolled": false
   },
   "outputs": [
    {
     "data": {
      "text/plain": [
       "{'api_version': 'argoproj.io/v1alpha1',\n",
       " 'kind': 'Workflow',\n",
       " 'metadata': {'generate_name': 'k8s-jobs-', 'name': 'k8s-jobs'},\n",
       " 'spec': {'entrypoint': 'pi',\n",
       "          'templates': [{'name': 'pi',\n",
       "                         'resource': {'action': 'create',\n",
       "                                      'failure_condition': 'status.failed > 3',\n",
       "                                      'manifest': 'apiVersion: batch/v1\\n'\n",
       "                                                  'kind: Job\\n'\n",
       "                                                  'metadata:\\n'\n",
       "                                                  '  generateName: pi-job-\\n'\n",
       "                                                  'spec:\\n'\n",
       "                                                  '  template:\\n'\n",
       "                                                  '    metadata:\\n'\n",
       "                                                  '      name: pi\\n'\n",
       "                                                  '    spec:\\n'\n",
       "                                                  '      containers:\\n'\n",
       "                                                  '      - name: pi\\n'\n",
       "                                                  '        image: perl\\n'\n",
       "                                                  '        command: [\"perl\",  '\n",
       "                                                  '\"-Mbignum=bpi\", \"-wle\", '\n",
       "                                                  '\"print bpi(2000)\"]\\n'\n",
       "                                                  '      restartPolicy: Never\\n'\n",
       "                                                  '  backoffLimit: 4\\n',\n",
       "                                      'success_condition': 'status.succeeded > '\n",
       "                                                           '0'}}]}}"
      ]
     },
     "execution_count": 6,
     "metadata": {},
     "output_type": "execute_result"
    }
   ],
   "source": [
    "import textwrap\n",
    "\n",
    "class K8sJobs(Workflow):\n",
    "    \n",
    "    entrypoint = \"pi\"\n",
    "    \n",
    "    @template\n",
    "    def pi(self) -> V1alpha1ResourceTemplate:\n",
    "        manifest = textwrap.dedent(\"\"\"\\\n",
    "            apiVersion: batch/v1\n",
    "            kind: Job\n",
    "            metadata:\n",
    "              generateName: pi-job-\n",
    "            spec:\n",
    "              template:\n",
    "                metadata:\n",
    "                  name: pi\n",
    "                spec:\n",
    "                  containers:\n",
    "                  - name: pi\n",
    "                    image: perl\n",
    "                    command: [\"perl\",  \"-Mbignum=bpi\", \"-wle\", \"print bpi(2000)\"]\n",
    "                  restartPolicy: Never\n",
    "              backoffLimit: 4\n",
    "        \"\"\")\n",
    "        template = V1alpha1ResourceTemplate(\n",
    "            action=\"create\",\n",
    "            success_condition=\"status.succeeded > 0\",\n",
    "            failure_condition=\"status.failed > 3\",\n",
    "            manifest=manifest\n",
    "        )\n",
    "\n",
    "        return template\n",
    "    \n",
    "wf = K8sJobs()\n",
    "wf"
   ]
  },
  {
   "cell_type": "code",
   "execution_count": 7,
   "metadata": {
    "ExecuteTime": {
     "end_time": "2019-12-27T21:33:53.135734Z",
     "start_time": "2019-12-27T21:33:53.106479Z"
    }
   },
   "outputs": [
    {
     "name": "stdout",
     "output_type": "stream",
     "text": [
      "api_version: argoproj.io/v1alpha1\n",
      "kind: Workflow\n",
      "metadata:\n",
      "  generate_name: k8s-jobs-\n",
      "  name: k8s-jobs\n",
      "spec:\n",
      "  entrypoint: pi\n",
      "  templates:\n",
      "  - name: pi\n",
      "    resource:\n",
      "      action: create\n",
      "      failure_condition: status.failed > 3\n",
      "      manifest: \"apiVersion: batch/v1\\nkind: Job\\nmetadata:\\n  generateName: pi-job-\\n\\\n",
      "        spec:\\n  template:\\n    metadata:\\n      name: pi\\n    spec:\\n      containers:\\n\\\n",
      "        \\      - name: pi\\n        image: perl\\n        command: [\\\"perl\\\",  \\\"-Mbignum=bpi\\\"\\\n",
      "        , \\\"-wle\\\", \\\"print bpi(2000)\\\"]\\n      restartPolicy: Never\\n  backoffLimit:\\\n",
      "        \\ 4\\n\"\n",
      "      success_condition: status.succeeded > 0\n",
      "\n"
     ]
    }
   ],
   "source": [
    "print(wf.to_yaml())"
   ]
  },
  {
   "cell_type": "markdown",
   "metadata": {},
   "source": [
    "---"
   ]
  },
  {
   "cell_type": "code",
   "execution_count": 8,
   "metadata": {
    "ExecuteTime": {
     "end_time": "2019-12-27T21:33:53.173805Z",
     "start_time": "2019-12-27T21:33:53.140200Z"
    }
   },
   "outputs": [
    {
     "name": "stdout",
     "output_type": "stream",
     "text": [
      "{'apiVersion': 'argoproj.io/v1alpha1',\n",
      " 'kind': 'Workflow',\n",
      " 'metadata': {'generateName': 'k8s-jobs-', 'name': 'k8s-jobs'},\n",
      " 'spec': {'entrypoint': 'pi',\n",
      "          'templates': [{'name': 'pi',\n",
      "                         'resource': {'action': 'create',\n",
      "                                      'failureCondition': 'status.failed > 3',\n",
      "                                      'manifest': 'apiVersion: batch/v1\\n'\n",
      "                                                  'kind: Job\\n'\n",
      "                                                  'metadata:\\n'\n",
      "                                                  '  generateName: pi-job-\\n'\n",
      "                                                  'spec:\\n'\n",
      "                                                  '  template:\\n'\n",
      "                                                  '    metadata:\\n'\n",
      "                                                  '      name: pi\\n'\n",
      "                                                  '    spec:\\n'\n",
      "                                                  '      containers:\\n'\n",
      "                                                  '      - name: pi\\n'\n",
      "                                                  '        image: perl\\n'\n",
      "                                                  '        command: [\"perl\",  '\n",
      "                                                  '\"-Mbignum=bpi\", \"-wle\", '\n",
      "                                                  '\"print bpi(2000)\"]\\n'\n",
      "                                                  '      restartPolicy: Never\\n'\n",
      "                                                  '  backoffLimit: 4\\n',\n",
      "                                      'successCondition': 'status.succeeded > '\n",
      "                                                          '0'}}]},\n",
      " 'status': {}}\n"
     ]
    }
   ],
   "source": [
    "pprint(sanitize_for_serialization(wf))"
   ]
  },
  {
   "cell_type": "code",
   "execution_count": 9,
   "metadata": {
    "ExecuteTime": {
     "end_time": "2019-12-27T21:33:53.215522Z",
     "start_time": "2019-12-27T21:33:53.176431Z"
    }
   },
   "outputs": [
    {
     "name": "stdout",
     "output_type": "stream",
     "text": [
      "{'apiVersion': 'argoproj.io/v1alpha1',\n",
      " 'kind': 'Workflow',\n",
      " 'metadata': {'generateName': 'k8s-jobs-', 'name': 'k8s-jobs'},\n",
      " 'spec': {'entrypoint': 'pi',\n",
      "          'templates': [{'name': 'pi',\n",
      "                         'resource': {'action': 'create',\n",
      "                                      'failureCondition': 'status.failed > 3',\n",
      "                                      'manifest': 'apiVersion: batch/v1\\n'\n",
      "                                                  'kind: Job\\n'\n",
      "                                                  'metadata:\\n'\n",
      "                                                  '  generateName: pi-job-\\n'\n",
      "                                                  'spec:\\n'\n",
      "                                                  '  template:\\n'\n",
      "                                                  '    metadata:\\n'\n",
      "                                                  '      name: pi\\n'\n",
      "                                                  '    spec:\\n'\n",
      "                                                  '      containers:\\n'\n",
      "                                                  '      - name: pi\\n'\n",
      "                                                  '        image: perl\\n'\n",
      "                                                  '        command: [\"perl\",  '\n",
      "                                                  '\"-Mbignum=bpi\", \"-wle\", '\n",
      "                                                  '\"print bpi(2000)\"]\\n'\n",
      "                                                  '      restartPolicy: Never\\n'\n",
      "                                                  '  backoffLimit: 4\\n',\n",
      "                                      'successCondition': 'status.succeeded > '\n",
      "                                                          '0'}}]},\n",
      " 'status': {}}\n"
     ]
    }
   ],
   "source": [
    "pprint(yaml.safe_load(manifest))"
   ]
  },
  {
   "cell_type": "code",
   "execution_count": 10,
   "metadata": {
    "ExecuteTime": {
     "end_time": "2019-12-27T21:33:53.272045Z",
     "start_time": "2019-12-27T21:33:53.217165Z"
    }
   },
   "outputs": [
    {
     "data": {
      "text/plain": [
       "{}"
      ]
     },
     "execution_count": 10,
     "metadata": {},
     "output_type": "execute_result"
    }
   ],
   "source": [
    "from deepdiff import DeepDiff\n",
    "\n",
    "diff = DeepDiff(sanitize_for_serialization(wf), yaml.safe_load(manifest))\n",
    "diff"
   ]
  },
  {
   "cell_type": "code",
   "execution_count": 11,
   "metadata": {
    "ExecuteTime": {
     "end_time": "2019-12-27T21:33:53.292336Z",
     "start_time": "2019-12-27T21:33:53.273779Z"
    }
   },
   "outputs": [],
   "source": [
    "assert not diff, \"Manifests don't match.\""
   ]
  }
 ],
 "metadata": {
  "finalized": {
   "timestamp": 1577482560639,
   "trusted": true
  },
  "hide_input": false,
  "kernelspec": {
   "display_name": "argo-python-sdk",
   "language": "python",
   "name": "argo-python-sdk"
  },
  "language_info": {
   "codemirror_mode": {
    "name": "ipython",
    "version": 3
   },
   "file_extension": ".py",
   "mimetype": "text/x-python",
   "name": "python",
   "nbconvert_exporter": "python",
   "pygments_lexer": "ipython3",
   "version": "3.6.8"
  },
  "requirements": {
   "aliases": {},
   "dev-packages": {},
   "packages": {
    "argo-workflows": "*",
    "deepdiff": "==4.0.9",
    "inflection": "==0.3.1",
    "pyyaml": "==5.2"
   },
   "requires": {
    "python_version": "3.6"
   },
   "sources": [
    {
     "name": "pypi",
     "url": "https://pypi.org/simple",
     "verify_ssl": true
    }
   ]
  },
  "toc": {
   "base_numbering": 1,
   "nav_menu": {},
   "number_sections": true,
   "sideBar": true,
   "skip_h1_title": true,
   "title_cell": "Table of Contents",
   "title_sidebar": "Contents",
   "toc_cell": true,
   "toc_position": {},
   "toc_section_display": true,
   "toc_window_display": false
  }
 },
 "nbformat": 4,
 "nbformat_minor": 2
}
