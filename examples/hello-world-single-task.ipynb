{
 "cells": [
  {
   "cell_type": "markdown",
   "metadata": {
    "toc": true
   },
   "source": [
    "<h1>Table of Contents<span class=\"tocSkip\"></span></h1>\n",
    "<div class=\"toc\"><ul class=\"toc-item\"></ul></div>"
   ]
  },
  {
   "cell_type": "code",
   "execution_count": 2,
   "metadata": {
    "ExecuteTime": {
     "end_time": "2020-01-16T13:10:09.564490Z",
     "start_time": "2020-01-16T13:10:09.528893Z"
    }
   },
   "outputs": [],
   "source": [
    "%load_ext autoreload\n",
    "%autoreload 2"
   ]
  },
  {
   "cell_type": "code",
   "execution_count": 3,
   "metadata": {
    "ExecuteTime": {
     "end_time": "2020-01-16T13:10:10.206492Z",
     "start_time": "2020-01-16T13:10:09.568569Z"
    }
   },
   "outputs": [],
   "source": [
    "from argo.workflows.dsl import Workflow\n",
    "from argo.workflows.dsl import task\n",
    "from argo.workflows.dsl import template\n",
    "\n",
    "from argo.workflows.dsl.templates import V1Container\n",
    "from argo.workflows.dsl.templates import V1alpha1Template"
   ]
  },
  {
   "cell_type": "code",
   "execution_count": 4,
   "metadata": {
    "ExecuteTime": {
     "end_time": "2020-01-16T13:10:10.244082Z",
     "start_time": "2020-01-16T13:10:10.209527Z"
    }
   },
   "outputs": [],
   "source": [
    "import yaml\n",
    "\n",
    "from pprint import pprint\n",
    "\n",
    "from argo.workflows.dsl._utils import sanitize_for_serialization"
   ]
  },
  {
   "cell_type": "markdown",
   "metadata": {},
   "source": [
    "---"
   ]
  },
  {
   "cell_type": "code",
   "execution_count": 5,
   "metadata": {
    "ExecuteTime": {
     "end_time": "2020-01-16T13:10:10.403616Z",
     "start_time": "2020-01-16T13:10:10.246036Z"
    }
   },
   "outputs": [],
   "source": [
    "!sh -c '[ -f \"hello-world-single-task.yaml\" ] || curl -LO https://raw.githubusercontent.com/CermakM/argo-python-dsl/master/examples/hello-world-single-task.yaml'"
   ]
  },
  {
   "cell_type": "code",
   "execution_count": 6,
   "metadata": {
    "ExecuteTime": {
     "end_time": "2020-01-16T13:10:10.487203Z",
     "start_time": "2020-01-16T13:10:10.414339Z"
    }
   },
   "outputs": [
    {
     "name": "stdout",
     "output_type": "stream",
     "text": [
      "# @file: hello-world-single-task.yaml\n",
      "apiVersion: argoproj.io/v1alpha1\n",
      "kind: Workflow\n",
      "metadata:\n",
      "  name: hello-world\n",
      "  generateName: hello-world-\n",
      "spec:\n",
      "  entrypoint: main\n",
      "  templates:\n",
      "  - name: main\n",
      "    dag:\n",
      "      tasks:\n",
      "      - name: A\n",
      "        template: whalesay\n",
      "\n",
      "  # @task: [A]\n",
      "  - name: whalesay\n",
      "    container:\n",
      "      name: whalesay\n",
      "      image: docker/whalesay:latest\n",
      "      command: [cowsay]\n",
      "      args: [\"hello world\"]\n",
      "status: {}\n",
      "\n"
     ]
    }
   ],
   "source": [
    "from pathlib import Path\n",
    "\n",
    "manifest = Path(\"./hello-world-single-task.yaml\").read_text()\n",
    "print(manifest)"
   ]
  },
  {
   "cell_type": "code",
   "execution_count": 7,
   "metadata": {
    "ExecuteTime": {
     "end_time": "2020-01-16T13:10:10.553219Z",
     "start_time": "2020-01-16T13:10:10.492599Z"
    },
    "scrolled": false
   },
   "outputs": [
    {
     "data": {
      "text/plain": [
       "{'api_version': 'argoproj.io/v1alpha1',\n",
       " 'kind': 'Workflow',\n",
       " 'metadata': {'generate_name': 'hello-world-', 'name': 'hello-world'},\n",
       " 'spec': {'entrypoint': 'main',\n",
       "          'templates': [{'dag': {'tasks': [{'name': 'A',\n",
       "                                            'template': 'whalesay'}]},\n",
       "                         'name': 'main'},\n",
       "                        {'container': {'args': ['hello world'],\n",
       "                                       'command': ['cowsay'],\n",
       "                                       'image': 'docker/whalesay:latest',\n",
       "                                       'name': 'whalesay'},\n",
       "                         'name': 'whalesay'}]},\n",
       " 'status': {}}"
      ]
     },
     "execution_count": 7,
     "metadata": {},
     "output_type": "execute_result"
    }
   ],
   "source": [
    "class HelloWorld(Workflow):\n",
    "    \n",
    "    @task\n",
    "    def A(self) -> V1alpha1Template:\n",
    "        return self.whalesay()\n",
    "    \n",
    "    @template\n",
    "    def whalesay(self) -> V1Container:\n",
    "        container = V1Container(\n",
    "            image=\"docker/whalesay:latest\",\n",
    "            name=\"whalesay\",\n",
    "            command=[\"cowsay\"],\n",
    "            args=[\"hello world\"]\n",
    "        )\n",
    "        \n",
    "        return container\n",
    "\n",
    "wf = HelloWorld()\n",
    "wf"
   ]
  },
  {
   "cell_type": "code",
   "execution_count": 8,
   "metadata": {
    "ExecuteTime": {
     "end_time": "2020-01-16T13:10:10.593877Z",
     "start_time": "2020-01-16T13:10:10.557342Z"
    }
   },
   "outputs": [
    {
     "name": "stdout",
     "output_type": "stream",
     "text": [
      "api_version: argoproj.io/v1alpha1\n",
      "kind: Workflow\n",
      "metadata:\n",
      "  generate_name: hello-world-\n",
      "  name: hello-world\n",
      "spec:\n",
      "  entrypoint: main\n",
      "  templates:\n",
      "  - dag:\n",
      "      tasks:\n",
      "      - name: A\n",
      "        template: whalesay\n",
      "    name: main\n",
      "  - container:\n",
      "      args:\n",
      "      - hello world\n",
      "      command:\n",
      "      - cowsay\n",
      "      image: docker/whalesay:latest\n",
      "      name: whalesay\n",
      "    name: whalesay\n",
      "status: {}\n",
      "\n"
     ]
    }
   ],
   "source": [
    "print(wf.to_yaml())"
   ]
  },
  {
   "cell_type": "markdown",
   "metadata": {},
   "source": [
    "---"
   ]
  },
  {
   "cell_type": "code",
   "execution_count": 9,
   "metadata": {
    "ExecuteTime": {
     "end_time": "2020-01-16T13:10:10.656100Z",
     "start_time": "2020-01-16T13:10:10.599955Z"
    }
   },
   "outputs": [
    {
     "name": "stdout",
     "output_type": "stream",
     "text": [
      "{'apiVersion': 'argoproj.io/v1alpha1',\n",
      " 'kind': 'Workflow',\n",
      " 'metadata': {'generateName': 'hello-world-', 'name': 'hello-world'},\n",
      " 'spec': {'entrypoint': 'main',\n",
      "          'templates': [{'dag': {'tasks': [{'name': 'A',\n",
      "                                            'template': 'whalesay'}]},\n",
      "                         'name': 'main'},\n",
      "                        {'container': {'args': ['hello world'],\n",
      "                                       'command': ['cowsay'],\n",
      "                                       'image': 'docker/whalesay:latest',\n",
      "                                       'name': 'whalesay'},\n",
      "                         'name': 'whalesay'}]},\n",
      " 'status': {}}\n"
     ]
    }
   ],
   "source": [
    "pprint(sanitize_for_serialization(wf))"
   ]
  },
  {
   "cell_type": "code",
   "execution_count": 10,
   "metadata": {
    "ExecuteTime": {
     "end_time": "2020-01-16T13:10:10.728280Z",
     "start_time": "2020-01-16T13:10:10.660783Z"
    }
   },
   "outputs": [
    {
     "name": "stdout",
     "output_type": "stream",
     "text": [
      "{'apiVersion': 'argoproj.io/v1alpha1',\n",
      " 'kind': 'Workflow',\n",
      " 'metadata': {'generateName': 'hello-world-', 'name': 'hello-world'},\n",
      " 'spec': {'entrypoint': 'main',\n",
      "          'templates': [{'dag': {'tasks': [{'name': 'A',\n",
      "                                            'template': 'whalesay'}]},\n",
      "                         'name': 'main'},\n",
      "                        {'container': {'args': ['hello world'],\n",
      "                                       'command': ['cowsay'],\n",
      "                                       'image': 'docker/whalesay:latest',\n",
      "                                       'name': 'whalesay'},\n",
      "                         'name': 'whalesay'}]},\n",
      " 'status': {}}\n"
     ]
    }
   ],
   "source": [
    "pprint(yaml.safe_load(manifest))"
   ]
  },
  {
   "cell_type": "code",
   "execution_count": 11,
   "metadata": {
    "ExecuteTime": {
     "end_time": "2020-01-16T13:10:10.781781Z",
     "start_time": "2020-01-16T13:10:10.733527Z"
    }
   },
   "outputs": [],
   "source": [
    "assert sanitize_for_serialization(wf) == yaml.safe_load(manifest), \"Manifests don't match.\""
   ]
  }
 ],
 "metadata": {
  "finalized": {
   "timestamp": 1579180218183,
   "trusted": true
  },
  "hide_input": false,
  "kernelspec": {
   "display_name": "argo-python-dsl",
   "language": "python",
   "name": "argo-python-dsl"
  },
  "language_info": {
   "codemirror_mode": {
    "name": "ipython",
    "version": 3
   },
   "file_extension": ".py",
   "mimetype": "text/x-python",
   "name": "python",
   "nbconvert_exporter": "python",
   "pygments_lexer": "ipython3",
   "version": "3.6.10"
  },
  "requirements": {
   "aliases": {},
   "dev-packages": {},
   "packages": {
    "argo-workflows": "*",
    "inflection": "==0.3.1",
    "pyyaml": "==5.2"
   },
   "requires": {
    "python_version": "3.6"
   },
   "sources": [
    {
     "name": "pypi",
     "url": "https://pypi.org/simple",
     "verify_ssl": true
    }
   ]
  },
  "toc": {
   "base_numbering": 1,
   "nav_menu": {},
   "number_sections": true,
   "sideBar": true,
   "skip_h1_title": true,
   "title_cell": "Table of Contents",
   "title_sidebar": "Contents",
   "toc_cell": true,
   "toc_position": {},
   "toc_section_display": true,
   "toc_window_display": false
  }
 },
 "nbformat": 4,
 "nbformat_minor": 2
}
